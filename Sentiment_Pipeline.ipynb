{
 "cells": [
  {
   "cell_type": "markdown",
   "metadata": {},
   "source": [
    "### Sentiment Analysis Pipeline and Multi-Class Text Classification of Twitter Data\n",
    "\n",
    "**Original Author:** Susan Li.<br/>\n",
    "**Additional Info:** Multi-Class Text Classification with PySpark. https://towardsdatascience.com/multi-class-text-classification-with-pyspark-7d78d022ed35<br/>\n",
    "**Last Modified:** Team Böhm 30.06.2021"
   ]
  },
  {
   "cell_type": "code",
   "execution_count": 1,
   "metadata": {},
   "outputs": [
    {
     "name": "stdout",
     "output_type": "stream",
     "text": [
      "Requirement already satisfied: findspark in /opt/conda/lib/python3.8/site-packages (1.4.2)\n"
     ]
    }
   ],
   "source": [
    "# Install the findspark module\n",
    "import sys\n",
    "!{sys.executable} -m pip install findspark"
   ]
  },
  {
   "cell_type": "code",
   "execution_count": 2,
   "metadata": {},
   "outputs": [
    {
     "name": "stdout",
     "output_type": "stream",
     "text": [
      "Requirement already satisfied: nltk in /opt/conda/lib/python3.8/site-packages (3.6.2)\n",
      "Requirement already satisfied: tqdm in /opt/conda/lib/python3.8/site-packages (from nltk) (4.51.0)\n",
      "Requirement already satisfied: joblib in /opt/conda/lib/python3.8/site-packages (from nltk) (0.17.0)\n",
      "Requirement already satisfied: click in /opt/conda/lib/python3.8/site-packages (from nltk) (7.1.2)\n",
      "Requirement already satisfied: regex in /opt/conda/lib/python3.8/site-packages (from nltk) (2021.7.6)\n"
     ]
    }
   ],
   "source": [
    "# Install the nltk module\n",
    "import sys\n",
    "!{sys.executable} -m pip install nltk"
   ]
  },
  {
   "cell_type": "code",
   "execution_count": 3,
   "metadata": {},
   "outputs": [
    {
     "name": "stdout",
     "output_type": "stream",
     "text": [
      "Requirement already satisfied: pyspark in /opt/conda/lib/python3.8/site-packages (3.1.2)\n",
      "Requirement already satisfied: py4j==0.10.9 in /opt/conda/lib/python3.8/site-packages (from pyspark) (0.10.9)\n"
     ]
    }
   ],
   "source": [
    "# Install the pyspark module\n",
    "!{sys.executable} -m pip install pyspark"
   ]
  },
  {
   "cell_type": "code",
   "execution_count": 4,
   "metadata": {},
   "outputs": [],
   "source": [
    "# Import the SparkSession \n",
    "from pyspark.sql import SparkSession\n",
    "from pyspark.sql.functions import *\n",
    "from pyspark.sql.types import *\n",
    "#from pyspark.sql.functions import col, udf, regexp_replace, trim, lower\n",
    "\n",
    "# Create SparkSession\n",
    "spark = SparkSession.builder \\\n",
    "   .master(\"local\") \\\n",
    "   .appName(\"currency\") \\\n",
    "   .config(\"spark.executor.memory\", \"1gb\") \\\n",
    "   .getOrCreate()\n",
    "\n",
    "#Get the spark context\n",
    "sc = spark.sparkContext"
   ]
  },
  {
   "cell_type": "code",
   "execution_count": 5,
   "metadata": {},
   "outputs": [],
   "source": [
    "customSchema = StructType([ \\\n",
    "StructField(\"text\", StringType(), True), \\\n",
    "StructField(\"date\", StringType(), True), \\\n",
    "StructField(\"location\", StringType(), True), \\\n",
    "StructField(\"polarity\", StringType(), True), \\\n",
    "StructField(\"subjectivity\", StringType(), True), \\\n",
    "StructField(\"sentiment\", StringType(), True)])"
   ]
  },
  {
   "cell_type": "code",
   "execution_count": 6,
   "metadata": {},
   "outputs": [],
   "source": [
    "try:\n",
    "    worldwide_combined_df = spark.read.format(\"csv\") \\\n",
    "       .option(\"header\", \"true\") \\\n",
    "       .option(\"sep\",\",\") \\\n",
    "       .schema(customSchema) \\\n",
    "       .load('/home/jovyan/dp2-2021s-teamboehm/Test/TestCombine/worldwide_combined.csv')\n",
    "except: \n",
    "    print(\"Unexpected error:\", sys.exc_info()[0])"
   ]
  },
  {
   "cell_type": "code",
   "execution_count": 7,
   "metadata": {},
   "outputs": [
    {
     "name": "stdout",
     "output_type": "stream",
     "text": [
      "(3606, 6)\n",
      "+--------------------+--------------------+--------------------+--------+------------+---------+\n",
      "|                text|                date|            location|polarity|subjectivity|sentiment|\n",
      "+--------------------+--------------------+--------------------+--------+------------+---------+\n",
      "|The Pfizer-BioNTe...|Mon Jun 28 14:43:...|Johannesburg, Sou...|     0.5|         0.5| Positive|\n",
      "|   🤞🏾this is true.|                null|                null|    null|        null|     null|\n",
      "|Pfizer and Modern...|Mon Jun 28 14:43:...|       United States|    0.35|        0.65| Positive|\n",
      "|The Pfizer-BioNTe...|Mon Jun 28 14:43:...|              Mexico|     0.5|         0.5| Positive|\n",
      "|Great news — Pfiz...|Mon Jun 28 14:43:...|               World|     0.8|        0.75| Positive|\n",
      "|The Pfizer-BioNTe...|Mon Jun 28 14:43:...|Südlich von Münch...|     0.5|         0.5| Positive|\n",
      "|I should be somew...|Mon Jun 28 14:43:...|Region Of Waterlo...|    -0.4|         0.8| Negative|\n",
      "|You truly love to...|Mon Jun 28 14:44:...|             Toronto|     0.5|         0.6| Positive|\n",
      "|You truly love to...|Mon Jun 28 14:44:...|        Brooklyn, NY|     0.5|         0.6| Positive|\n",
      "|The Pfizer-BioNTe...|Mon Jun 28 14:44:...|    Philadelphia, PA|     0.5|         0.5| Positive|\n",
      "+--------------------+--------------------+--------------------+--------+------------+---------+\n",
      "only showing top 10 rows\n",
      "\n"
     ]
    }
   ],
   "source": [
    "try: \n",
    "    # Get size and shape of DF\n",
    "    print((worldwide_combined_df.count(), len(worldwide_combined_df.columns)))\n",
    "    # Display head of DF (we see some missing values)\n",
    "    worldwide_combined_df.show(10)\n",
    "except: \n",
    "    print(\"Unexpected error:\", sys.exc_info()[0])"
   ]
  },
  {
   "cell_type": "code",
   "execution_count": 8,
   "metadata": {},
   "outputs": [
    {
     "name": "stdout",
     "output_type": "stream",
     "text": [
      "(2395, 6)\n",
      "+--------------------+--------------------+--------------------+--------+------------+---------+\n",
      "|                text|                date|            location|polarity|subjectivity|sentiment|\n",
      "+--------------------+--------------------+--------------------+--------+------------+---------+\n",
      "|The Pfizer-BioNTe...|Mon Jun 28 14:43:...|Johannesburg, Sou...|     0.5|         0.5| Positive|\n",
      "|Pfizer and Modern...|Mon Jun 28 14:43:...|       United States|    0.35|        0.65| Positive|\n",
      "|The Pfizer-BioNTe...|Mon Jun 28 14:43:...|              Mexico|     0.5|         0.5| Positive|\n",
      "|Great news — Pfiz...|Mon Jun 28 14:43:...|               World|     0.8|        0.75| Positive|\n",
      "|The Pfizer-BioNTe...|Mon Jun 28 14:43:...|Südlich von Münch...|     0.5|         0.5| Positive|\n",
      "|I should be somew...|Mon Jun 28 14:43:...|Region Of Waterlo...|    -0.4|         0.8| Negative|\n",
      "|You truly love to...|Mon Jun 28 14:44:...|             Toronto|     0.5|         0.6| Positive|\n",
      "|You truly love to...|Mon Jun 28 14:44:...|        Brooklyn, NY|     0.5|         0.6| Positive|\n",
      "|The Pfizer-BioNTe...|Mon Jun 28 14:44:...|    Philadelphia, PA|     0.5|         0.5| Positive|\n",
      "|The Pfizer-BioNTe...|Mon Jun 28 14:44:...|          Lima, Perú|     0.5|         0.5| Positive|\n",
      "+--------------------+--------------------+--------------------+--------+------------+---------+\n",
      "only showing top 10 rows\n",
      "\n"
     ]
    }
   ],
   "source": [
    "try: \n",
    "    # drop all tweets with missing values\n",
    "    worldwide_combined_df = worldwide_combined_df.na.drop(\"any\")\n",
    "    print((worldwide_combined_df.count(), len(worldwide_combined_df.columns)))\n",
    "    worldwide_combined_df.show(10)\n",
    "except: \n",
    "    print(\"Unexpected error:\", sys.exc_info()[0])"
   ]
  },
  {
   "cell_type": "code",
   "execution_count": 9,
   "metadata": {},
   "outputs": [
    {
     "name": "stdout",
     "output_type": "stream",
     "text": [
      "+--------------------+----------+--------------------+--------+------------+---------+\n",
      "|                text|      date|            location|polarity|subjectivity|sentiment|\n",
      "+--------------------+----------+--------------------+--------+------------+---------+\n",
      "|The Pfizer-BioNTe...|2021-06-28|Johannesburg, Sou...|     0.5|         0.5| Positive|\n",
      "|Pfizer and Modern...|2021-06-28|       United States|    0.35|        0.65| Positive|\n",
      "|The Pfizer-BioNTe...|2021-06-28|              Mexico|     0.5|         0.5| Positive|\n",
      "|Great news — Pfiz...|2021-06-28|               World|     0.8|        0.75| Positive|\n",
      "|The Pfizer-BioNTe...|2021-06-28|Südlich von Münch...|     0.5|         0.5| Positive|\n",
      "|I should be somew...|2021-06-28|Region Of Waterlo...|    -0.4|         0.8| Negative|\n",
      "|You truly love to...|2021-06-28|             Toronto|     0.5|         0.6| Positive|\n",
      "|You truly love to...|2021-06-28|        Brooklyn, NY|     0.5|         0.6| Positive|\n",
      "|The Pfizer-BioNTe...|2021-06-28|    Philadelphia, PA|     0.5|         0.5| Positive|\n",
      "|The Pfizer-BioNTe...|2021-06-28|          Lima, Perú|     0.5|         0.5| Positive|\n",
      "+--------------------+----------+--------------------+--------+------------+---------+\n",
      "only showing top 10 rows\n",
      "\n"
     ]
    }
   ],
   "source": [
    "'''\n",
    "https://stackoverflow.com/questions/68239001/pyspark-non-matching-values-in-date-time-column\n",
    "'''\n",
    "try:\n",
    "    import pyspark.sql.functions as F\n",
    "    # conveting to dateformat and stripping away timestamp according to stackoverflow response\n",
    "    worldwide_combined_df = worldwide_combined_df.withColumn(\"date\", F.to_date(F.substring(\"date\",5,100),\"MMM dd HH:mm:ss xx yyyy\"))\n",
    "    worldwide_combined_df.show(10)\n",
    "except: \n",
    "    print(\"Unexpected error:\", sys.exc_info()[0])"
   ]
  },
  {
   "cell_type": "code",
   "execution_count": 10,
   "metadata": {},
   "outputs": [
    {
     "name": "stdout",
     "output_type": "stream",
     "text": [
      "(2329, 6)\n",
      "+--------------------+----------+--------------------+--------+------------+---------+\n",
      "|                text|      date|            location|polarity|subjectivity|sentiment|\n",
      "+--------------------+----------+--------------------+--------+------------+---------+\n",
      "|The Pfizer-BioNTe...|2021-06-28|Johannesburg, Sou...|     0.5|         0.5| Positive|\n",
      "|Pfizer and Modern...|2021-06-28|       United States|    0.35|        0.65| Positive|\n",
      "|The Pfizer-BioNTe...|2021-06-28|              Mexico|     0.5|         0.5| Positive|\n",
      "|Great news — Pfiz...|2021-06-28|               World|     0.8|        0.75| Positive|\n",
      "|The Pfizer-BioNTe...|2021-06-28|Südlich von Münch...|     0.5|         0.5| Positive|\n",
      "|I should be somew...|2021-06-28|Region Of Waterlo...|    -0.4|         0.8| Negative|\n",
      "|You truly love to...|2021-06-28|             Toronto|     0.5|         0.6| Positive|\n",
      "|You truly love to...|2021-06-28|        Brooklyn, NY|     0.5|         0.6| Positive|\n",
      "|The Pfizer-BioNTe...|2021-06-28|    Philadelphia, PA|     0.5|         0.5| Positive|\n",
      "|The Pfizer-BioNTe...|2021-06-28|          Lima, Perú|     0.5|         0.5| Positive|\n",
      "+--------------------+----------+--------------------+--------+------------+---------+\n",
      "only showing top 10 rows\n",
      "\n"
     ]
    }
   ],
   "source": [
    "try: \n",
    "    # drop any remaining tweets with missing values and order the datframe by date\n",
    "    worldwide_combined_df = worldwide_combined_df.na.drop(\"any\")\n",
    "    worldwide_combined_df = worldwide_combined_df.orderBy(\"date\")\n",
    "    print((worldwide_combined_df.count(), len(worldwide_combined_df.columns)))\n",
    "    worldwide_combined_df.show(10)\n",
    "except: \n",
    "    print(\"Unexpected error:\", sys.exc_info()[0])"
   ]
  },
  {
   "cell_type": "code",
   "execution_count": 11,
   "metadata": {},
   "outputs": [
    {
     "name": "stdout",
     "output_type": "stream",
     "text": [
      "+--------------------+----------+--------------------+-------------------+-------------------+---------+------------+\n",
      "|                text|      date|            location|           polarity|       subjectivity|sentiment|tweet_length|\n",
      "+--------------------+----------+--------------------+-------------------+-------------------+---------+------------+\n",
      "|The Pfizer-BioNTe...|2021-06-28|Johannesburg, Sou...|                0.5|                0.5| Positive|         126|\n",
      "|Pfizer and Modern...|2021-06-28|       United States|               0.35|               0.65| Positive|          73|\n",
      "|The Pfizer-BioNTe...|2021-06-28|              Mexico|                0.5|                0.5| Positive|         126|\n",
      "|Great news — Pfiz...|2021-06-28|               World|                0.8|               0.75| Positive|          89|\n",
      "|The Pfizer-BioNTe...|2021-06-28|Südlich von Münch...|                0.5|                0.5| Positive|         126|\n",
      "|I should be somew...|2021-06-28|Region Of Waterlo...|               -0.4|                0.8| Negative|         116|\n",
      "|You truly love to...|2021-06-28|             Toronto|                0.5|                0.6| Positive|          24|\n",
      "|You truly love to...|2021-06-28|        Brooklyn, NY|                0.5|                0.6| Positive|          24|\n",
      "|The Pfizer-BioNTe...|2021-06-28|    Philadelphia, PA|                0.5|                0.5| Positive|         126|\n",
      "|The Pfizer-BioNTe...|2021-06-28|          Lima, Perú|                0.5|                0.5| Positive|         126|\n",
      "|Well, good mRNAin...|2021-06-28|       Massachusetts|              0.875| 0.6000000000000001| Positive|          35|\n",
      "|Galvez said over ...|2021-06-28| Makati, Philippines|                0.0|                0.0|  Neutral|         117|\n",
      "|Who the hell made...|2021-06-28| Copenhagen, Denmark|                0.0|                0.0|  Neutral|         116|\n",
      "|The Pfizer-BioNTe...|2021-06-28|  Medellín, Colombia|                0.5|                0.5| Positive|         126|\n",
      "|The “Find a Walk-...|2021-06-28|                 N16|                0.0|                0.0|  Neutral|         116|\n",
      "|Need more data bu...|2021-06-28|   Glasgow, Scotland|0.27499999999999997|0.43333333333333335| Positive|          41|\n",
      "|The Pfizer-BioNTe...|2021-06-28|       New York City|                0.5|                0.5| Positive|         126|\n",
      "|The word “amazing...|2021-06-28|Tallahassee, Florida| 0.6000000000000001|                0.9| Positive|          37|\n",
      "|The Pfizer-BioNTe...|2021-06-28|          Copenhagen|                0.5|                0.5| Positive|         126|\n",
      "|  COVID19vaccinePH\"\"|2021-06-28|          Pasig City|                0.2|               0.45| Positive|          18|\n",
      "+--------------------+----------+--------------------+-------------------+-------------------+---------+------------+\n",
      "only showing top 20 rows\n",
      "\n",
      "Row(max(tweet_length)=139)\n",
      "139\n",
      "Row(min(tweet_length)=1)\n",
      "1\n"
     ]
    }
   ],
   "source": [
    "'''\n",
    "https://stackoverflow.com/questions/33224740/best-way-to-get-the-max-value-in-a-spark-dataframe-column\n",
    "'''\n",
    "try:\n",
    "    # Data Insights\n",
    "    # creating column with tweet lengths\n",
    "    worldwide_combined_df.withColumn('tweet_length', F.length('text')).show(truncate=True)\n",
    "    worldwide_combined_df = worldwide_combined_df.withColumn('tweet_length', F.length('text'))\n",
    "\n",
    "    # How long is the longest tweet?\n",
    "    row1 = worldwide_combined_df.agg({\"tweet_length\": \"max\"}).collect()[0]\n",
    "    print(row1)\n",
    "    print(row1[\"max(tweet_length)\"])\n",
    "\n",
    "    # How long is the shortest tweet?\n",
    "    row2 = worldwide_combined_df.agg({\"tweet_length\": \"min\"}).collect()[0]\n",
    "    print(row2)\n",
    "    print(row2[\"min(tweet_length)\"])\n",
    "except: \n",
    "    print(\"Unexpected error:\", sys.exc_info()[0])"
   ]
  },
  {
   "cell_type": "code",
   "execution_count": 12,
   "metadata": {},
   "outputs": [
    {
     "name": "stdout",
     "output_type": "stream",
     "text": [
      "root\n",
      " |-- text: string (nullable = true)\n",
      " |-- date: date (nullable = true)\n",
      " |-- location: string (nullable = true)\n",
      " |-- polarity: string (nullable = true)\n",
      " |-- subjectivity: string (nullable = true)\n",
      " |-- sentiment: string (nullable = true)\n",
      " |-- tweet_length: integer (nullable = true)\n",
      "\n"
     ]
    }
   ],
   "source": [
    "worldwide_combined_df.printSchema()"
   ]
  },
  {
   "cell_type": "markdown",
   "metadata": {},
   "source": [
    "## Sentiment Pipeline"
   ]
  },
  {
   "cell_type": "code",
   "execution_count": 13,
   "metadata": {},
   "outputs": [],
   "source": [
    "'''\n",
    "https://spark.apache.org/docs/latest/ml-features.html\n",
    "'''\n",
    "try: \n",
    "    # Import all necessary packages and libraries for Sentiment Analysis Pipeline\n",
    "    from pyspark.ml.feature import VectorAssembler, StringIndexer, CountVectorizer, HashingTF, Word2Vec, IDF, Tokenizer, RegexTokenizer, StopWordsRemover, NGram\n",
    "    \n",
    "    # tokenizer: creates an array of words from tweet's text\n",
    "    tokenizer = RegexTokenizer(inputCol=\"text\", outputCol=\"words\")\n",
    "    wordsData = tokenizer.transform(worldwide_combined_df)  \n",
    "except: \n",
    "    print(\"Unexpected error:\", sys.exc_info()[0])"
   ]
  },
  {
   "cell_type": "code",
   "execution_count": 14,
   "metadata": {},
   "outputs": [
    {
     "name": "stdout",
     "output_type": "stream",
     "text": [
      "+--------------------+--------------------+--------------------+\n",
      "|                text|               words|      filtered_words|\n",
      "+--------------------+--------------------+--------------------+\n",
      "|The Pfizer-BioNTe...|[the, pfizer-bion...|[pfizer-biontech,...|\n",
      "|Pfizer and Modern...|[pfizer, and, mod...|[pfizer, moderna,...|\n",
      "|The Pfizer-BioNTe...|[the, pfizer-bion...|[pfizer-biontech,...|\n",
      "|Great news — Pfiz...|[great, news, — p...|[great, news, — p...|\n",
      "|The Pfizer-BioNTe...|[the, pfizer-bion...|[pfizer-biontech,...|\n",
      "|I should be somew...|[i, should, be, s...|[somewhat, annoye...|\n",
      "|You truly love to...|[you, truly, love...|  [truly, love, see]|\n",
      "|You truly love to...|[you, truly, love...|  [truly, love, see]|\n",
      "|The Pfizer-BioNTe...|[the, pfizer-bion...|[pfizer-biontech,...|\n",
      "|The Pfizer-BioNTe...|[the, pfizer-bion...|[pfizer-biontech,...|\n",
      "|Well, good mRNAin...|[well,, good, mrn...|[well,, good, mrn...|\n",
      "|Galvez said over ...|[galvez, said, ov...|[galvez, said, 90...|\n",
      "|Who the hell made...|[who, the, hell, ...|[hell, made, deci...|\n",
      "|The Pfizer-BioNTe...|[the, pfizer-bion...|[pfizer-biontech,...|\n",
      "|The “Find a Walk-...|[the, “find, a, w...|[“find, walk-in, ...|\n",
      "|Need more data bu...|[need, more, data...|[need, data, prom...|\n",
      "|The Pfizer-BioNTe...|[the, pfizer-bion...|[pfizer-biontech,...|\n",
      "|The word “amazing...|[the, word, “amaz...|[word, “amazing”,...|\n",
      "|The Pfizer-BioNTe...|[the, pfizer-bion...|[pfizer-biontech,...|\n",
      "|  COVID19vaccinePH\"\"|[covid19vaccineph\"\"]|[covid19vaccineph\"\"]|\n",
      "+--------------------+--------------------+--------------------+\n",
      "only showing top 20 rows\n",
      "\n"
     ]
    }
   ],
   "source": [
    "'''\n",
    "https://spark.apache.org/docs/latest/ml-features.html\n",
    "'''\n",
    "try:\n",
    "    # stop words remover: removes words that do not convey additional info\n",
    "    add_stopwords = [\"i\", \"me\", \"my\", \"myself\", \"we\", \"our\", \"ours\", \"ourselves\", \n",
    "                     \"you\", \"your\", \"yours\", \"yourself\", \"yourselves\", \n",
    "                     \"he\", \"him\", \"his\", \"himself\", \"she\", \"her\", \"hers\", \"herself\", \n",
    "                     \"it\", \"its\", \"itself\", \"they\", \"them\", \"their\", \"theirs\", \"themselves\", \n",
    "                     \"what\", \"which\", \"who\", \"whom\", \"this\", \"that\", \"these\", \"those\", \n",
    "                     \"am\", \"is\", \"are\", \"was\", \"were\", \"be\", \"been\", \"being\", \n",
    "                     \"have\", \"has\", \"had\", \"having\", \"do\", \"does\", \"did\", \"doing\", \n",
    "                     \"a\", \"an\", \"the\", \"and\", \"but\", \"if\", \"or\", \"because\", \"as\", \n",
    "                     \"until\", \"while\", \"of\", \"at\", \"by\", \"for\", \"with\", \"about\", \"against\", \"between\", \n",
    "                     \"into\", \"through\", \"during\", \"before\", \"after\", \"above\", \"below\", \n",
    "                     \"to\", \"from\", \"up\", \"down\", \"in\", \"out\", \"on\", \"off\", \"over\", \"under\", \n",
    "                     \"again\", \"further\", \"then\", \"once\", \"here\", \"there\", \"when\", \"where\", \"why\", \"how\", \n",
    "                     \"all\", \"any\", \"both\", \"each\", \"few\", \"more\", \"most\", \"other\", \"some\", \n",
    "                     \"such\", \"no\", \"nor\", \"not\", \"only\", \"own\", \"same\", \"so\", \"than\", \"too\", \"very\", \n",
    "                     \"s\", \"t\", \"can\", \"will\", \"just\", \"don\", \"should\", \"now\"]\n",
    "    remover = StopWordsRemover(inputCol=\"words\", outputCol=\"filtered_words\").setStopWords(add_stopwords)\n",
    "    filteredData = remover.transform(wordsData)\n",
    "    filteredData.select(\"text\", \"words\", \"filtered_words\").show(truncate=True)\n",
    "except: \n",
    "    print(\"Unexpected error:\", sys.exc_info()[0])"
   ]
  },
  {
   "cell_type": "code",
   "execution_count": 15,
   "metadata": {},
   "outputs": [
    {
     "name": "stdout",
     "output_type": "stream",
     "text": [
      "-RECORD 0-------------------------------------------------------------------------------------------------------------------------------------------------------------\n",
      " text           | The Pfizer-BioNTech and Moderna Covid-19 vaccines may protect against the coronavirus for years, a study of more than a dozen…                      \n",
      " words          | [the, pfizer-biontech, and, moderna, covid-19, vaccines, may, protect, against, the, coronavirus, for, years,, a, study, of, more, than, a, dozen…] \n",
      " filtered_words | [pfizer-biontech, moderna, covid-19, vaccines, may, protect, coronavirus, years,, study, dozen…]                                                    \n",
      " punc_cleaned   | [pfizerbiontech, moderna, covid19, vaccines, may, protect, coronavirus, years, study, dozen…]                                                       \n",
      "-RECORD 1-------------------------------------------------------------------------------------------------------------------------------------------------------------\n",
      " text           | Pfizer and Moderna vaccines may protect against COVID-19 for years  via\"\"                                                                           \n",
      " words          | [pfizer, and, moderna, vaccines, may, protect, against, covid-19, for, years, via\"\"]                                                                \n",
      " filtered_words | [pfizer, moderna, vaccines, may, protect, covid-19, years, via\"\"]                                                                                   \n",
      " punc_cleaned   | [pfizer, moderna, vaccines, may, protect, covid19, years, via]                                                                                      \n",
      "-RECORD 2-------------------------------------------------------------------------------------------------------------------------------------------------------------\n",
      " text           | The Pfizer-BioNTech and Moderna Covid-19 vaccines may protect against the coronavirus for years, a study of more than a dozen…                      \n",
      " words          | [the, pfizer-biontech, and, moderna, covid-19, vaccines, may, protect, against, the, coronavirus, for, years,, a, study, of, more, than, a, dozen…] \n",
      " filtered_words | [pfizer-biontech, moderna, covid-19, vaccines, may, protect, coronavirus, years,, study, dozen…]                                                    \n",
      " punc_cleaned   | [pfizerbiontech, moderna, covid19, vaccines, may, protect, coronavirus, years, study, dozen…]                                                       \n",
      "-RECORD 3-------------------------------------------------------------------------------------------------------------------------------------------------------------\n",
      " text           | Great news — Pfizer &amp; Moderna vaccines may protect the body for years ... Yay science                                                           \n",
      " words          | [great, news, — pfizer, &amp;, moderna, vaccines, may, protect, the, body, for, years, ..., yay, science]                                           \n",
      " filtered_words | [great, news, — pfizer, &amp;, moderna, vaccines, may, protect, body, years, ..., yay, science]                                                     \n",
      " punc_cleaned   | [great, news, — pfizer, amp, moderna, vaccines, may, protect, body, years, , yay, science]                                                          \n",
      "-RECORD 4-------------------------------------------------------------------------------------------------------------------------------------------------------------\n",
      " text           | The Pfizer-BioNTech and Moderna Covid-19 vaccines may protect against the coronavirus for years, a study of more than a dozen…                      \n",
      " words          | [the, pfizer-biontech, and, moderna, covid-19, vaccines, may, protect, against, the, coronavirus, for, years,, a, study, of, more, than, a, dozen…] \n",
      " filtered_words | [pfizer-biontech, moderna, covid-19, vaccines, may, protect, coronavirus, years,, study, dozen…]                                                    \n",
      " punc_cleaned   | [pfizerbiontech, moderna, covid19, vaccines, may, protect, coronavirus, years, study, dozen…]                                                       \n",
      "only showing top 5 rows\n",
      "\n"
     ]
    }
   ],
   "source": [
    "'''\n",
    "https://stackoverflow.com/questions/58038919/removing-punctuation-in-spark-dataframe\n",
    "'''\n",
    "try:\n",
    "    # punctuation remover: removes commas, dots and grammatical signs\n",
    "    def removePunctuation(column):\n",
    "        '''Removes punctuation, changes to lower case, strips leading and trailing spaces and splits on separator string.\n",
    "            Note:\n",
    "            Only spaces, letters, and numbers should be retained.  \n",
    "            Args:\n",
    "            column (Column): filtered_words column from previous step.\n",
    "            Returns:\n",
    "            Column: column named 'punc_cleaned' with clean-up operations applied.\n",
    "        '''\n",
    "        #return lower(trim(regexp_replace(column,'\\\\p{Punct}','')))\n",
    "        return split(trim(lower(regexp_replace(concat_ws(\" \", column),'\\\\p{Punct}', ''))), \" \")\n",
    "\n",
    "    #PunctRemover = udf(removePunctuation, ArrayType(StringType()))\n",
    "\n",
    "    filteredData = filteredData.withColumn(\"punc_cleaned\", removePunctuation(filteredData.filtered_words))\n",
    "    filteredData.select(\"text\", \"words\", \"filtered_words\", \"punc_cleaned\").show(5, vertical=True, truncate=False)\n",
    "except: \n",
    "    print(\"Unexpected error:\", sys.exc_info()[0])"
   ]
  },
  {
   "cell_type": "code",
   "execution_count": 16,
   "metadata": {},
   "outputs": [
    {
     "name": "stdout",
     "output_type": "stream",
     "text": [
      "-RECORD 0---------------------------------------------------------------------------------------------------------------------------------------------------------------\n",
      " text             | The Pfizer-BioNTech and Moderna Covid-19 vaccines may protect against the coronavirus for years, a study of more than a dozen…                      \n",
      " words            | [the, pfizer-biontech, and, moderna, covid-19, vaccines, may, protect, against, the, coronavirus, for, years,, a, study, of, more, than, a, dozen…] \n",
      " filtered_words   | [pfizer-biontech, moderna, covid-19, vaccines, may, protect, coronavirus, years,, study, dozen…]                                                    \n",
      " punc_cleaned     | [pfizerbiontech, moderna, covid19, vaccines, may, protect, coronavirus, years, study, dozen…]                                                       \n",
      " lemmatized_words | [pfizerbiontech, moderna, covid19, vaccine, may, protect, coronavirus, year, study, dozen…]                                                         \n",
      " tokens           | 10                                                                                                                                                  \n",
      "-RECORD 1---------------------------------------------------------------------------------------------------------------------------------------------------------------\n",
      " text             | Pfizer and Moderna vaccines may protect against COVID-19 for years  via\"\"                                                                           \n",
      " words            | [pfizer, and, moderna, vaccines, may, protect, against, covid-19, for, years, via\"\"]                                                                \n",
      " filtered_words   | [pfizer, moderna, vaccines, may, protect, covid-19, years, via\"\"]                                                                                   \n",
      " punc_cleaned     | [pfizer, moderna, vaccines, may, protect, covid19, years, via]                                                                                      \n",
      " lemmatized_words | [pfizer, moderna, vaccine, may, protect, covid19, year, via]                                                                                        \n",
      " tokens           | 8                                                                                                                                                   \n",
      "-RECORD 2---------------------------------------------------------------------------------------------------------------------------------------------------------------\n",
      " text             | The Pfizer-BioNTech and Moderna Covid-19 vaccines may protect against the coronavirus for years, a study of more than a dozen…                      \n",
      " words            | [the, pfizer-biontech, and, moderna, covid-19, vaccines, may, protect, against, the, coronavirus, for, years,, a, study, of, more, than, a, dozen…] \n",
      " filtered_words   | [pfizer-biontech, moderna, covid-19, vaccines, may, protect, coronavirus, years,, study, dozen…]                                                    \n",
      " punc_cleaned     | [pfizerbiontech, moderna, covid19, vaccines, may, protect, coronavirus, years, study, dozen…]                                                       \n",
      " lemmatized_words | [pfizerbiontech, moderna, covid19, vaccine, may, protect, coronavirus, year, study, dozen…]                                                         \n",
      " tokens           | 10                                                                                                                                                  \n",
      "-RECORD 3---------------------------------------------------------------------------------------------------------------------------------------------------------------\n",
      " text             | Great news — Pfizer &amp; Moderna vaccines may protect the body for years ... Yay science                                                           \n",
      " words            | [great, news, — pfizer, &amp;, moderna, vaccines, may, protect, the, body, for, years, ..., yay, science]                                           \n",
      " filtered_words   | [great, news, — pfizer, &amp;, moderna, vaccines, may, protect, body, years, ..., yay, science]                                                     \n",
      " punc_cleaned     | [great, news, — pfizer, amp, moderna, vaccines, may, protect, body, years, , yay, science]                                                          \n",
      " lemmatized_words | [great, news, — pfizer, amp, moderna, vaccine, may, protect, body, year, , yay, science]                                                            \n",
      " tokens           | 13                                                                                                                                                  \n",
      "-RECORD 4---------------------------------------------------------------------------------------------------------------------------------------------------------------\n",
      " text             | The Pfizer-BioNTech and Moderna Covid-19 vaccines may protect against the coronavirus for years, a study of more than a dozen…                      \n",
      " words            | [the, pfizer-biontech, and, moderna, covid-19, vaccines, may, protect, against, the, coronavirus, for, years,, a, study, of, more, than, a, dozen…] \n",
      " filtered_words   | [pfizer-biontech, moderna, covid-19, vaccines, may, protect, coronavirus, years,, study, dozen…]                                                    \n",
      " punc_cleaned     | [pfizerbiontech, moderna, covid19, vaccines, may, protect, coronavirus, years, study, dozen…]                                                       \n",
      " lemmatized_words | [pfizerbiontech, moderna, covid19, vaccine, may, protect, coronavirus, year, study, dozen…]                                                         \n",
      " tokens           | 10                                                                                                                                                  \n",
      "only showing top 5 rows\n",
      "\n"
     ]
    }
   ],
   "source": [
    "'''\n",
    "    https://stackoverflow.com/questions/59850159/nltk-wordnet-lemmatization-with-pos-tag-on-pyspark-dataframe\n",
    "    https://www.machinelearningplus.com/nlp/lemmatization-examples-python/#wordnetlemmatizer\n",
    "'''\n",
    "try:\n",
    "    # lemmatizer: longer description below...\n",
    "    import nltk\n",
    "    #nltk.download('wordnet')\n",
    "    #nltk.download('averaged_perceptron_tagger')\n",
    "    from nltk.stem import WordNetLemmatizer \n",
    "    \n",
    "    # In order for ‘are’ to be converted to ‘be’ and ‘hanging’ to be converted to ‘hang’, as expected, \n",
    "    # we must provide the correct ‘part-of-speech’ tag (POS tag) as the second argument to lemmatize().\n",
    "\n",
    "    # E.g.:\n",
    "    # print(lemmatizer.lemmatize(\"stripes\", 'v'))  \n",
    "    #> strip\n",
    "\n",
    "    #print(lemmatizer.lemmatize(\"stripes\", 'n'))  \n",
    "    #> stripe\n",
    "\n",
    "    # In the following part, we will find out the correct POS tag for each word, map it to the right input character that the WordnetLemmatizer accepts \n",
    "    # and pass it as the second argument to lemmatize().\n",
    "\n",
    "    # how to get the POS tag for a given word?\n",
    "    # In nltk, it is available through the nltk.pos_tag() method. \n",
    "    # It accepts only a list (list of words), even if its a single word.\n",
    "\n",
    "    # nltk.pos_tag() returns a tuple with the POS tag. \n",
    "    # The key here is to map NLTK’s POS tags to the format wordnet lemmatizer would accept. \n",
    "    # The get_wordnet_pos() function defined below does this mapping job.\n",
    "\n",
    "    def get_wordnet_pos(treebank_tag):\n",
    "        \"\"\"\n",
    "        return WORDNET POS compliance to WORDNET lemmatization (a,n,r,v) \n",
    "        \"\"\"\n",
    "        if treebank_tag.startswith('J'):\n",
    "                return 'a'\n",
    "        elif treebank_tag.startswith('V'):\n",
    "                return 'v'\n",
    "        elif treebank_tag.startswith('N'):\n",
    "                return 'n'\n",
    "        elif treebank_tag.startswith('R'):\n",
    "                return 'r'\n",
    "        else:\n",
    "        # As default pos in lemmatization is Noun\n",
    "            return 'n'\n",
    "\n",
    "    def lemmatization(data_str):\n",
    "        # expects a string\n",
    "        list_pos = 0\n",
    "        cleaned_str = []\n",
    "        lemmatizer = WordNetLemmatizer()\n",
    "        #text = data_str.split()\n",
    "        tagged_words = nltk.pos_tag(data_str)\n",
    "        for word in tagged_words:\n",
    "            lemma = lemmatizer.lemmatize(word[0], get_wordnet_pos(word[1]))\n",
    "            cleaned_str.append(lemma)\n",
    "            list_pos += 1\n",
    "        return cleaned_str\n",
    "\n",
    "    sparkLemmer = udf(lambda x: lemmatization(x), ArrayType(StringType()))\n",
    "    lemmaDataFrame = filteredData.withColumn(\"lemmatized_words\", sparkLemmer(filteredData.punc_cleaned))\n",
    "\n",
    "    # counting tokens: counts the number of lemmatized words \n",
    "    countTokens = udf(lambda words: len(words), IntegerType())\n",
    "    tokenizedData = lemmaDataFrame.withColumn(\"tokens\", countTokens(col(\"lemmatized_words\")))\n",
    "\n",
    "    tokenizedData.select(\"text\", \"words\", \"filtered_words\", \"punc_cleaned\", \"lemmatized_words\", \"tokens\").show(5, vertical=True, truncate = False)\n",
    "except: \n",
    "    print(\"Unexpected error:\", sys.exc_info()[0])"
   ]
  },
  {
   "cell_type": "code",
   "execution_count": 17,
   "metadata": {},
   "outputs": [
    {
     "name": "stdout",
     "output_type": "stream",
     "text": [
      "-RECORD 0-----------------------------------------------------------------------------------------------------------------------------------------------------------------\n",
      " text             | The Pfizer-BioNTech and Moderna Covid-19 vaccines may protect against the coronavirus for years, a study of more than a dozen…                        \n",
      " words            | [the, pfizer-biontech, and, moderna, covid-19, vaccines, may, protect, against, the, coronavirus, for, years,, a, study, of, more, than, a, dozen…]   \n",
      " filtered_words   | [pfizer-biontech, moderna, covid-19, vaccines, may, protect, coronavirus, years,, study, dozen…]                                                      \n",
      " punc_cleaned     | [pfizerbiontech, moderna, covid19, vaccines, may, protect, coronavirus, years, study, dozen…]                                                         \n",
      " lemmatized_words | [pfizerbiontech, moderna, covid19, vaccine, may, protect, coronavirus, year, study, dozen…]                                                           \n",
      " ngrams           | [pfizerbiontech moderna, moderna covid19, covid19 vaccine, vaccine may, may protect, protect coronavirus, coronavirus year, year study, study dozen…] \n",
      "-RECORD 1-----------------------------------------------------------------------------------------------------------------------------------------------------------------\n",
      " text             | Pfizer and Moderna vaccines may protect against COVID-19 for years  via\"\"                                                                             \n",
      " words            | [pfizer, and, moderna, vaccines, may, protect, against, covid-19, for, years, via\"\"]                                                                  \n",
      " filtered_words   | [pfizer, moderna, vaccines, may, protect, covid-19, years, via\"\"]                                                                                     \n",
      " punc_cleaned     | [pfizer, moderna, vaccines, may, protect, covid19, years, via]                                                                                        \n",
      " lemmatized_words | [pfizer, moderna, vaccine, may, protect, covid19, year, via]                                                                                          \n",
      " ngrams           | [pfizer moderna, moderna vaccine, vaccine may, may protect, protect covid19, covid19 year, year via]                                                  \n",
      "-RECORD 2-----------------------------------------------------------------------------------------------------------------------------------------------------------------\n",
      " text             | The Pfizer-BioNTech and Moderna Covid-19 vaccines may protect against the coronavirus for years, a study of more than a dozen…                        \n",
      " words            | [the, pfizer-biontech, and, moderna, covid-19, vaccines, may, protect, against, the, coronavirus, for, years,, a, study, of, more, than, a, dozen…]   \n",
      " filtered_words   | [pfizer-biontech, moderna, covid-19, vaccines, may, protect, coronavirus, years,, study, dozen…]                                                      \n",
      " punc_cleaned     | [pfizerbiontech, moderna, covid19, vaccines, may, protect, coronavirus, years, study, dozen…]                                                         \n",
      " lemmatized_words | [pfizerbiontech, moderna, covid19, vaccine, may, protect, coronavirus, year, study, dozen…]                                                           \n",
      " ngrams           | [pfizerbiontech moderna, moderna covid19, covid19 vaccine, vaccine may, may protect, protect coronavirus, coronavirus year, year study, study dozen…] \n",
      "-RECORD 3-----------------------------------------------------------------------------------------------------------------------------------------------------------------\n",
      " text             | Great news — Pfizer &amp; Moderna vaccines may protect the body for years ... Yay science                                                             \n",
      " words            | [great, news, — pfizer, &amp;, moderna, vaccines, may, protect, the, body, for, years, ..., yay, science]                                             \n",
      " filtered_words   | [great, news, — pfizer, &amp;, moderna, vaccines, may, protect, body, years, ..., yay, science]                                                       \n",
      " punc_cleaned     | [great, news, — pfizer, amp, moderna, vaccines, may, protect, body, years, , yay, science]                                                            \n",
      " lemmatized_words | [great, news, — pfizer, amp, moderna, vaccine, may, protect, body, year, , yay, science]                                                              \n",
      " ngrams           | [great news, news — pfizer, — pfizer amp, amp moderna, moderna vaccine, vaccine may, may protect, protect body, body year, year ,  yay, yay science]  \n",
      "-RECORD 4-----------------------------------------------------------------------------------------------------------------------------------------------------------------\n",
      " text             | The Pfizer-BioNTech and Moderna Covid-19 vaccines may protect against the coronavirus for years, a study of more than a dozen…                        \n",
      " words            | [the, pfizer-biontech, and, moderna, covid-19, vaccines, may, protect, against, the, coronavirus, for, years,, a, study, of, more, than, a, dozen…]   \n",
      " filtered_words   | [pfizer-biontech, moderna, covid-19, vaccines, may, protect, coronavirus, years,, study, dozen…]                                                      \n",
      " punc_cleaned     | [pfizerbiontech, moderna, covid19, vaccines, may, protect, coronavirus, years, study, dozen…]                                                         \n",
      " lemmatized_words | [pfizerbiontech, moderna, covid19, vaccine, may, protect, coronavirus, year, study, dozen…]                                                           \n",
      " ngrams           | [pfizerbiontech moderna, moderna covid19, covid19 vaccine, vaccine may, may protect, protect coronavirus, coronavirus year, year study, study dozen…] \n",
      "only showing top 5 rows\n",
      "\n"
     ]
    }
   ],
   "source": [
    "'''\n",
    "https://spark.apache.org/docs/latest/ml-features.html\n",
    "'''\n",
    "try:\n",
    "    # ngrams: we decided to enrich our dataframe with bigrams created from the lemmatized_words column\n",
    "    # set n equal to any number to get unigrams, trigrams, etc. \n",
    "    ngram = NGram(n=2, inputCol=\"lemmatized_words\", outputCol=\"ngrams\")\n",
    "    ngramDataFrame = ngram.transform(tokenizedData)\n",
    "    ngramDataFrame.select(\"text\", \"words\", \"filtered_words\", \"punc_cleaned\", \"lemmatized_words\", \"ngrams\").show(5, vertical=True, truncate = False)\n",
    "except: \n",
    "    print(\"Unexpected error:\", sys.exc_info()[0])"
   ]
  },
  {
   "cell_type": "code",
   "execution_count": 18,
   "metadata": {},
   "outputs": [
    {
     "data": {
      "image/png": "[encoded data removed]",
      "text/plain": [
       "<Figure size 432x288 with 1 Axes>"
      ]
     },
     "metadata": {
      "needs_background": "light"
     },
     "output_type": "display_data"
    },
    {
     "data": {
      "image/png": "[encoded data removed]",
      "text/plain": [
       "<Figure size 432x288 with 1 Axes>"
      ]
     },
     "metadata": {
      "needs_background": "light"
     },
     "output_type": "display_data"
    },
    {
     "data": {
      "image/png": "[encoded data removed]",
      "text/plain": [
       "<Figure size 432x288 with 1 Axes>"
      ]
     },
     "metadata": {
      "needs_background": "light"
     },
     "output_type": "display_data"
    },
    {
     "data": {
      "image/png": "[encoded data removed]",
      "text/plain": [
       "<Figure size 432x288 with 1 Axes>"
      ]
     },
     "metadata": {
      "needs_background": "light"
     },
     "output_type": "display_data"
    }
   ],
   "source": [
    "'''\n",
    "https://stackoverflow.com/questions/3594740/finding-the-common-elements-of-a-list\n",
    "'''\n",
    "try:\n",
    "    import pandas as pd\n",
    "    import matplotlib.pyplot as plt\n",
    "    from matplotlib.pyplot import figure\n",
    "\n",
    "    stpwrds = [\"i\", \"me\", \"my\", \"myself\", \"we\", \"our\", \"ours\", \"ourselves\", \n",
    "                         \"you\", \"your\", \"yours\", \"yourself\", \"yourselves\", \n",
    "                         \"he\", \"him\", \"his\", \"himself\", \"she\", \"her\", \"hers\", \"herself\", \n",
    "                         \"it\", \"its\", \"itself\", \"they\", \"them\", \"their\", \"theirs\", \"themselves\", \n",
    "                         \"what\", \"which\", \"who\", \"whom\", \"this\", \"that\", \"these\", \"those\", \n",
    "                         \"am\", \"is\", \"are\", \"was\", \"were\", \"be\", \"been\", \"being\", \n",
    "                         \"have\", \"has\", \"had\", \"having\", \"do\", \"does\", \"did\", \"doing\", \n",
    "                         \"a\", \"an\", \"the\", \"and\", \"but\", \"if\", \"or\", \"because\", \"as\", \n",
    "                         \"until\", \"while\", \"of\", \"at\", \"by\", \"for\", \"with\", \"about\", \"against\", \"between\", \n",
    "                         \"into\", \"through\", \"during\", \"before\", \"after\", \"above\", \"below\", \n",
    "                         \"to\", \"from\", \"up\", \"down\", \"in\", \"out\", \"on\", \"off\", \"over\", \"under\", \n",
    "                         \"again\", \"further\", \"then\", \"once\", \"here\", \"there\", \"when\", \"where\", \"why\", \"how\", \n",
    "                         \"all\", \"any\", \"both\", \"each\", \"few\", \"more\", \"most\", \"other\", \"some\", \n",
    "                         \"such\", \"no\", \"nor\", \"not\", \"only\", \"own\", \"same\", \"so\", \"than\", \"too\", \"very\", \n",
    "                         \"s\", \"t\", \"can\", \"will\", \"just\", \"don\", \"should\", \"now\", \n",
    "                         'AstraZeneca', 'AstraZeneca vaccine', 'Astra Zeneca', 'AZ', 'astrazeneca', 'astra', 'Oxford', 'vaccine', 'vaccines', 'amp',\n",
    "                         'COVID', 'covid', 'covid19', 'Pfizer', 'pfizer', 'BioNTech', 'pfizer vaccine', 'Moderna', 'Covid vaccine', \n",
    "                         'Moderna', 'moderna', 'moderna vaccine', 'Janssen vaccine', 'JNJ', 'jnj', 'j', 'Johnson', 'johnson', 'Janssen', 'janssen', 'may', 'get', '', '…']\n",
    "\n",
    "    plot_lemmatized = ngramDataFrame.select(\"lemmatized_words\").toPandas()\n",
    "    plot_polar_sub = worldwide_combined_df.select(\"polarity\", \"subjectivity\", \"sentiment\", round(\"polarity\",2), round(\"subjectivity\",2)).toPandas()\n",
    "    plot_lemmatized4 = []\n",
    "\n",
    "    for i,r in plot_lemmatized.iterrows():\n",
    "        for row in r[0]:\n",
    "            if row not in stpwrds: \n",
    "                plot_lemmatized4.append(row)\n",
    "\n",
    "    word_counter = {}\n",
    "\n",
    "    for word in plot_lemmatized4:\n",
    "        if word in word_counter:\n",
    "            word_counter[word] += 1\n",
    "        else:\n",
    "            word_counter[word] = 1\n",
    "\n",
    "    popular_words = sorted(word_counter, key = word_counter.get, reverse = True)\n",
    "    top_15 = popular_words[:15]\n",
    "    names = []\n",
    "\n",
    "    for i in top_15:\n",
    "        names.append(word_counter[i])\n",
    "\n",
    "\n",
    "    import os\n",
    "    os.chdir(\"/home/jovyan/dp2-2021s-teamboehm/Test/TestCombine\")\n",
    "    plt.bar(top_15, names, color=['lightsteelblue', 'cornflowerblue', 'royalblue', 'blue', 'slateblue', 'mediumslateblue', 'darkblue', 'navy', \"midnightblue\", \"mediumpurple\", \"rebeccapurple\", \"indigo\", \"blueviolet\", \"orchid\", \"deeppink\"])\n",
    "    plt.xlabel(\"Top 15 phrases\", fontsize=12)\n",
    "    plt.ylabel(\"Frequency\", fontsize=12)\n",
    "    plt.title(\"Frequency of most popular words\", fontsize=16)\n",
    "    plt.xticks(rotation=45, fontsize=10)\n",
    "    plt.yticks(fontsize=12)\n",
    "    plt.rc('xtick', labelsize = 4)\n",
    "    plt.savefig(\"plot_distribution.png\", bbox_inches='tight')\n",
    "    plt.show()\n",
    "    plt.close()\n",
    "\n",
    "    plot_sentiment = plot_polar_sub[\"sentiment\"].hist(grid = False, color = [\"mediumseagreen\"])\n",
    "    plt.xlabel(\"Classes\", fontsize=12)\n",
    "    plt.ylabel(\"Frequency\", fontsize=12)\n",
    "    plt.title(\"Distribution of sentiment\", fontsize=16)\n",
    "    plt.xticks(fontsize=12)\n",
    "    plt.yticks(fontsize=12)\n",
    "    fig = plot_sentiment.get_figure()\n",
    "    fig.savefig(\"plot_sentiment.png\", bbox_inches='tight')\n",
    "    plt.show()\n",
    "    plt.close()\n",
    "\n",
    "    plot_polar_sub4 = plot_polar_sub[\"round(polarity, 2)\"].hist(grid = False)\n",
    "    plt.xlabel(\"Polarity\", fontsize=12)\n",
    "    plt.ylabel(\"Frequency\", fontsize=12)\n",
    "    plt.title(\"Polarity distribution\", fontsize=16)\n",
    "    plt.xticks(fontsize=12)\n",
    "    plt.yticks(fontsize=12)\n",
    "    fig = plot_polar_sub4.get_figure()\n",
    "    fig.savefig(\"plot_polarity.png\", bbox_inches='tight')\n",
    "    plt.show()\n",
    "    plt.close()\n",
    "\n",
    "    plot_polar_sub1 = plot_polar_sub[\"round(subjectivity, 2)\"].hist(grid = False)\n",
    "    plt.xlabel(\"Subjectivity\", fontsize=12)\n",
    "    plt.ylabel(\"Frequency\", fontsize=12)\n",
    "    plt.title(\"Subjectivity distribution\", fontsize=16)\n",
    "    plt.xticks(fontsize=12)\n",
    "    plt.yticks(fontsize=12)\n",
    "    fig = plot_polar_sub1.get_figure()\n",
    "    fig.savefig(\"plot_subjectivity.png\", bbox_inches='tight')\n",
    "    plt.show()\n",
    "    plt.close()\n",
    "except: \n",
    "    print(\"Unexpected error:\", sys.exc_info()[0])"
   ]
  },
  {
   "cell_type": "code",
   "execution_count": 19,
   "metadata": {},
   "outputs": [
    {
     "name": "stdout",
     "output_type": "stream",
     "text": [
      "-RECORD 0---------------------------------------------------------------------------------------------------------------------------------------------------------------\n",
      " text             | The Pfizer-BioNTech and Moderna Covid-19 vaccines may protect against the coronavirus for years, a study of more than a dozen…                      \n",
      " words            | [the, pfizer-biontech, and, moderna, covid-19, vaccines, may, protect, against, the, coronavirus, for, years,, a, study, of, more, than, a, dozen…] \n",
      " filtered_words   | [pfizer-biontech, moderna, covid-19, vaccines, may, protect, coronavirus, years,, study, dozen…]                                                    \n",
      " punc_cleaned     | [pfizerbiontech, moderna, covid19, vaccines, may, protect, coronavirus, years, study, dozen…]                                                       \n",
      " lemmatized_words | [pfizerbiontech, moderna, covid19, vaccine, may, protect, coronavirus, year, study, dozen…]                                                         \n",
      " features         | (4753,[3,5,8,19,23,46,74,75,77,130],[1.0,1.0,1.0,1.0,1.0,1.0,1.0,1.0,1.0,1.0])                                                                      \n",
      " sentiment        | Positive                                                                                                                                            \n",
      " label            | 0.0                                                                                                                                                 \n",
      "-RECORD 1---------------------------------------------------------------------------------------------------------------------------------------------------------------\n",
      " text             | Pfizer and Moderna vaccines may protect against COVID-19 for years  via\"\"                                                                           \n",
      " words            | [pfizer, and, moderna, vaccines, may, protect, against, covid-19, for, years, via\"\"]                                                                \n",
      " filtered_words   | [pfizer, moderna, vaccines, may, protect, covid-19, years, via\"\"]                                                                                   \n",
      " punc_cleaned     | [pfizer, moderna, vaccines, may, protect, covid19, years, via]                                                                                      \n",
      " lemmatized_words | [pfizer, moderna, vaccine, may, protect, covid19, year, via]                                                                                        \n",
      " features         | (4753,[1,3,5,8,19,74,77,180],[1.0,1.0,1.0,1.0,1.0,1.0,1.0,1.0])                                                                                     \n",
      " sentiment        | Positive                                                                                                                                            \n",
      " label            | 0.0                                                                                                                                                 \n",
      "-RECORD 2---------------------------------------------------------------------------------------------------------------------------------------------------------------\n",
      " text             | The Pfizer-BioNTech and Moderna Covid-19 vaccines may protect against the coronavirus for years, a study of more than a dozen…                      \n",
      " words            | [the, pfizer-biontech, and, moderna, covid-19, vaccines, may, protect, against, the, coronavirus, for, years,, a, study, of, more, than, a, dozen…] \n",
      " filtered_words   | [pfizer-biontech, moderna, covid-19, vaccines, may, protect, coronavirus, years,, study, dozen…]                                                    \n",
      " punc_cleaned     | [pfizerbiontech, moderna, covid19, vaccines, may, protect, coronavirus, years, study, dozen…]                                                       \n",
      " lemmatized_words | [pfizerbiontech, moderna, covid19, vaccine, may, protect, coronavirus, year, study, dozen…]                                                         \n",
      " features         | (4753,[3,5,8,19,23,46,74,75,77,130],[1.0,1.0,1.0,1.0,1.0,1.0,1.0,1.0,1.0,1.0])                                                                      \n",
      " sentiment        | Positive                                                                                                                                            \n",
      " label            | 0.0                                                                                                                                                 \n",
      "-RECORD 3---------------------------------------------------------------------------------------------------------------------------------------------------------------\n",
      " text             | Great news — Pfizer &amp; Moderna vaccines may protect the body for years ... Yay science                                                           \n",
      " words            | [great, news, — pfizer, &amp;, moderna, vaccines, may, protect, the, body, for, years, ..., yay, science]                                           \n",
      " filtered_words   | [great, news, — pfizer, &amp;, moderna, vaccines, may, protect, body, years, ..., yay, science]                                                     \n",
      " punc_cleaned     | [great, news, — pfizer, amp, moderna, vaccines, may, protect, body, years, , yay, science]                                                          \n",
      " lemmatized_words | [great, news, — pfizer, amp, moderna, vaccine, may, protect, body, year, , yay, science]                                                            \n",
      " features         | (4753,[3,5,6,7,19,74,77,106,187,269,359,1558,1975],[1.0,1.0,1.0,1.0,1.0,1.0,1.0,1.0,1.0,1.0,1.0,1.0,1.0])                                           \n",
      " sentiment        | Positive                                                                                                                                            \n",
      " label            | 0.0                                                                                                                                                 \n",
      "-RECORD 4---------------------------------------------------------------------------------------------------------------------------------------------------------------\n",
      " text             | The Pfizer-BioNTech and Moderna Covid-19 vaccines may protect against the coronavirus for years, a study of more than a dozen…                      \n",
      " words            | [the, pfizer-biontech, and, moderna, covid-19, vaccines, may, protect, against, the, coronavirus, for, years,, a, study, of, more, than, a, dozen…] \n",
      " filtered_words   | [pfizer-biontech, moderna, covid-19, vaccines, may, protect, coronavirus, years,, study, dozen…]                                                    \n",
      " punc_cleaned     | [pfizerbiontech, moderna, covid19, vaccines, may, protect, coronavirus, years, study, dozen…]                                                       \n",
      " lemmatized_words | [pfizerbiontech, moderna, covid19, vaccine, may, protect, coronavirus, year, study, dozen…]                                                         \n",
      " features         | (4753,[3,5,8,19,23,46,74,75,77,130],[1.0,1.0,1.0,1.0,1.0,1.0,1.0,1.0,1.0,1.0])                                                                      \n",
      " sentiment        | Positive                                                                                                                                            \n",
      " label            | 0.0                                                                                                                                                 \n",
      "only showing top 5 rows\n",
      "\n"
     ]
    }
   ],
   "source": [
    "'''\n",
    "https://spark.apache.org/docs/latest/ml-features.html\n",
    "'''\n",
    "try:\n",
    "    # Creaating term frequency vector from punctuation cleaned array\n",
    "    # Fit a CountVectorizerModel from the corpus\n",
    "    countvect = CountVectorizer(inputCol=\"punc_cleaned\", outputCol=\"features\")\n",
    "    model = countvect.fit(ngramDataFrame)\n",
    "    FeaturizedData = model.transform(ngramDataFrame)\n",
    "\n",
    "    # string indexer: creates numeric indices from textual labels\n",
    "    label_stringIdx = StringIndexer(inputCol = \"sentiment\", outputCol = \"label\")\n",
    "    indexedDataFrame = label_stringIdx.fit(FeaturizedData).transform(FeaturizedData)\n",
    "    indexedDataFrame.select(\"text\", \"words\", \"filtered_words\", \"punc_cleaned\", \"lemmatized_words\", \"features\", \"sentiment\", \"label\").show(5, vertical=True, truncate = False)\n",
    "except: \n",
    "    print(\"Unexpected error:\", sys.exc_info()[0])"
   ]
  },
  {
   "cell_type": "code",
   "execution_count": 20,
   "metadata": {},
   "outputs": [
    {
     "name": "stdout",
     "output_type": "stream",
     "text": [
      "+-----+-----+\n",
      "|label|count|\n",
      "+-----+-----+\n",
      "|  0.0| 1040|\n",
      "|  1.0|  993|\n",
      "|  2.0|  296|\n",
      "+-----+-----+\n",
      "\n"
     ]
    }
   ],
   "source": [
    "# distribution by labels\n",
    "indexedDataFrame.groupBy(\"label\") \\\n",
    "    .count() \\\n",
    "    .orderBy(col(\"count\").desc()) \\\n",
    "    .show()"
   ]
  },
  {
   "cell_type": "code",
   "execution_count": 21,
   "metadata": {},
   "outputs": [
    {
     "name": "stdout",
     "output_type": "stream",
     "text": [
      "+---------+-----+\n",
      "|sentiment|count|\n",
      "+---------+-----+\n",
      "| Positive| 1040|\n",
      "|  Neutral|  993|\n",
      "| Negative|  296|\n",
      "+---------+-----+\n",
      "\n"
     ]
    }
   ],
   "source": [
    "# distribution by sentiment classes\n",
    "indexedDataFrame.groupBy(\"sentiment\") \\\n",
    "    .count() \\\n",
    "    .orderBy(col(\"count\").desc()) \\\n",
    "    .show()"
   ]
  },
  {
   "cell_type": "markdown",
   "metadata": {},
   "source": [
    "## Classification Models"
   ]
  },
  {
   "cell_type": "code",
   "execution_count": 22,
   "metadata": {},
   "outputs": [
    {
     "name": "stdout",
     "output_type": "stream",
     "text": [
      "(2329, 15)\n",
      "Training Dataset Count: 1657\n",
      "Test Dataset Count: 672\n"
     ]
    }
   ],
   "source": [
    "try:\n",
    "    # Splitting the final dataframe into test and train data\n",
    "    # set seed for reproducibility\n",
    "    print((indexedDataFrame.count(), len(indexedDataFrame.columns)))\n",
    "    splits = indexedDataFrame.randomSplit([0.7, 0.3], seed = 123)\n",
    "    #print(type(splits))\n",
    "    #splits[0].show(truncate=True)\n",
    "    #splits[1].show(truncate=True)\n",
    "    trainingData = splits[0]\n",
    "    testData = splits[1]\n",
    "    print(\"Training Dataset Count: \" + str(trainingData.count()))\n",
    "    print(\"Test Dataset Count: \" + str(testData.count()))\n",
    "except: \n",
    "    print(\"Unexpected error:\", sys.exc_info()[0])"
   ]
  },
  {
   "cell_type": "code",
   "execution_count": 23,
   "metadata": {},
   "outputs": [
    {
     "name": "stdout",
     "output_type": "stream",
     "text": [
      "root\n",
      " |-- text: string (nullable = true)\n",
      " |-- date: date (nullable = true)\n",
      " |-- location: string (nullable = true)\n",
      " |-- polarity: string (nullable = true)\n",
      " |-- subjectivity: string (nullable = true)\n",
      " |-- sentiment: string (nullable = true)\n",
      " |-- tweet_length: integer (nullable = true)\n",
      " |-- words: array (nullable = true)\n",
      " |    |-- element: string (containsNull = true)\n",
      " |-- filtered_words: array (nullable = true)\n",
      " |    |-- element: string (containsNull = true)\n",
      " |-- punc_cleaned: array (nullable = false)\n",
      " |    |-- element: string (containsNull = true)\n",
      " |-- lemmatized_words: array (nullable = true)\n",
      " |    |-- element: string (containsNull = true)\n",
      " |-- tokens: integer (nullable = true)\n",
      " |-- ngrams: array (nullable = true)\n",
      " |    |-- element: string (containsNull = true)\n",
      " |-- features: vector (nullable = true)\n",
      " |-- label: double (nullable = false)\n",
      "\n"
     ]
    }
   ],
   "source": [
    "indexedDataFrame.printSchema()"
   ]
  },
  {
   "cell_type": "markdown",
   "metadata": {},
   "source": [
    "## Logistic Regression"
   ]
  },
  {
   "cell_type": "code",
   "execution_count": 24,
   "metadata": {},
   "outputs": [
    {
     "name": "stdout",
     "output_type": "stream",
     "text": [
      "+------------------------------+---------+------------------------------+-----+----------+\n",
      "|                filtered_words|sentiment|                   probability|label|prediction|\n",
      "+------------------------------+---------+------------------------------+-----+----------+\n",
      "|[*an, actual, vaccine, appo...|  Neutral|[0.4471941454394767,0.42848...|  1.0|       0.0|\n",
      "|[600,000, pfizer, vaccines,...|  Neutral|[0.4471941454394767,0.42848...|  1.0|       0.0|\n",
      "|               [fucking, time]| Negative|[0.4471941454394767,0.42848...|  2.0|       0.0|\n",
      "|[az, risk/benefit, balance,...|  Neutral|[0.4471941454394767,0.42848...|  1.0|       0.0|\n",
      "|[az, second, shot, pun, sen...| Positive|[0.4471941454394767,0.42848...|  0.0|       0.0|\n",
      "|[anyone, age, (approved, fo...|  Neutral|[0.4471941454394767,0.42848...|  1.0|       0.0|\n",
      "|[astra, zeneca, isn't, good...| Positive|[0.4471941454394767,0.42848...|  0.0|       0.0|\n",
      "|[moderna, 45, miles, home, ...| Negative|[0.4471941454394767,0.42848...|  2.0|       0.0|\n",
      "|[there's, nothing, say, gui...|  Neutral|[0.4471941454394767,0.42848...|  1.0|       0.0|\n",
      "|[breaking, national, cabine...|  Neutral|[0.4471941454394767,0.42848...|  1.0|       0.0|\n",
      "+------------------------------+---------+------------------------------+-----+----------+\n",
      "only showing top 10 rows\n",
      "\n",
      "Multinomial coefficients: 3 X 4753 CSRMatrix\n",
      "\n",
      "Multinomial intercepts: [0.44095499620427414,0.3982182329355575,-0.8391732291398316]\n"
     ]
    }
   ],
   "source": [
    "'''\n",
    "https://spark.apache.org/docs/latest/ml-classification-regression.html\n",
    "'''\n",
    "try:\n",
    "    from pyspark.ml.classification import LogisticRegression\n",
    "\n",
    "    mlr = LogisticRegression(maxIter=10, regParam=0.3, elasticNetParam=0.8, family=\"multinomial\")\n",
    "    mlrModel = mlr.fit(trainingData)\n",
    "    \n",
    "    # the model will make predictions and score on the test set; \n",
    "    # we print out the top 10 predictions with the highest probability\n",
    "    predictions = mlrModel.transform(testData)\n",
    "    predictions.filter(predictions['prediction'] == 0) \\\n",
    "        .select(\"filtered_words\",\"sentiment\",\"probability\",\"label\",\"prediction\") \\\n",
    "        .orderBy(\"probability\", ascending=False) \\\n",
    "        .show(n = 10, truncate = 30)\n",
    "\n",
    "    # Print the coefficients and intercepts for logistic regression with multinomial family\n",
    "    print(\"Multinomial coefficients: \" + str(mlrModel.coefficientMatrix))\n",
    "    print(\"Multinomial intercepts: \" + str(mlrModel.interceptVector))\n",
    "except: \n",
    "    print(\"Unexpected error:\", sys.exc_info()[0])"
   ]
  },
  {
   "cell_type": "code",
   "execution_count": 25,
   "metadata": {},
   "outputs": [
    {
     "data": {
      "text/plain": [
       "0.2740210141729194"
      ]
     },
     "execution_count": 25,
     "metadata": {},
     "output_type": "execute_result"
    }
   ],
   "source": [
    "'''\n",
    "https://spark.apache.org/docs/latest/ml-classification-regression.html\n",
    "'''\n",
    "from pyspark.ml.evaluation import MulticlassClassificationEvaluator\n",
    "\n",
    "evaluator = MulticlassClassificationEvaluator(predictionCol=\"prediction\")\n",
    "evaluator.evaluate(predictions)\n"
   ]
  },
  {
   "cell_type": "code",
   "execution_count": 26,
   "metadata": {},
   "outputs": [
    {
     "name": "stdout",
     "output_type": "stream",
     "text": [
      "objectiveHistory:\n",
      "0.9822220752190302\n",
      "0.9822218337491957\n",
      "0.982221423534225\n",
      "0.9822214212747918\n",
      "0.9822214208212016\n",
      "0.9822214207307118\n",
      "0.9822214206658099\n",
      "0.9822214206619335\n",
      "False positive rate by label:\n",
      "label 0: 1.0\n",
      "label 1: 0.0\n",
      "label 2: 0.0\n",
      "True positive rate by label:\n",
      "label 0: 1.0\n",
      "label 1: 0.0\n",
      "label 2: 0.0\n",
      "Precision by label:\n",
      "label 0: 0.4471937235968618\n",
      "label 1: 0.0\n",
      "label 2: 0.0\n",
      "Recall by label:\n",
      "label 0: 1.0\n",
      "label 1: 0.0\n",
      "label 2: 0.0\n",
      "F-measure by label:\n",
      "label 0: 0.6180150125104253\n",
      "label 1: 0.0\n",
      "label 2: 0.0\n",
      "Accuracy: 0.4471937235968618\n",
      "FPR: 0.4471937235968618\n",
      "TPR: 0.4471937235968618\n",
      "F-measure: 0.27637243468329825\n",
      "Precision: 0.19998222642442645\n",
      "Recall: 0.4471937235968618\n"
     ]
    }
   ],
   "source": [
    "'''\n",
    "https://spark.apache.org/docs/latest/ml-classification-regression.html\n",
    "'''\n",
    "try:\n",
    "    trainingSummary = mlrModel.summary\n",
    "\n",
    "    # Obtain the objective per iteration\n",
    "    objectiveHistory = trainingSummary.objectiveHistory\n",
    "    print(\"objectiveHistory:\")\n",
    "    for objective in objectiveHistory:\n",
    "        print(objective)\n",
    "\n",
    "    # for multiclass Logistic Regression, we can inspect metrics on a per-label basis\n",
    "    print(\"False positive rate by label:\")\n",
    "    for i, rate in enumerate(trainingSummary.falsePositiveRateByLabel):\n",
    "        print(\"label %d: %s\" % (i, rate))\n",
    "\n",
    "    print(\"True positive rate by label:\")\n",
    "    for i, rate in enumerate(trainingSummary.truePositiveRateByLabel):\n",
    "        print(\"label %d: %s\" % (i, rate))\n",
    "\n",
    "    print(\"Precision by label:\")\n",
    "    for i, prec in enumerate(trainingSummary.precisionByLabel):\n",
    "        print(\"label %d: %s\" % (i, prec))\n",
    "\n",
    "    print(\"Recall by label:\")\n",
    "    for i, rec in enumerate(trainingSummary.recallByLabel):\n",
    "        print(\"label %d: %s\" % (i, rec))\n",
    "\n",
    "    print(\"F-measure by label:\")\n",
    "    for i, f in enumerate(trainingSummary.fMeasureByLabel()):\n",
    "        print(\"label %d: %s\" % (i, f))\n",
    "\n",
    "    accuracy = trainingSummary.accuracy\n",
    "    falsePositiveRate = trainingSummary.weightedFalsePositiveRate\n",
    "    truePositiveRate = trainingSummary.weightedTruePositiveRate\n",
    "    fMeasure = trainingSummary.weightedFMeasure()\n",
    "    precision = trainingSummary.weightedPrecision\n",
    "    recall = trainingSummary.weightedRecall\n",
    "    print(\"Accuracy: %s\\nFPR: %s\\nTPR: %s\\nF-measure: %s\\nPrecision: %s\\nRecall: %s\"\n",
    "          % (accuracy, falsePositiveRate, truePositiveRate, fMeasure, precision, recall))\n",
    "except: \n",
    "    print(\"Unexpected error:\", sys.exc_info()[0])"
   ]
  },
  {
   "cell_type": "markdown",
   "metadata": {},
   "source": [
    "## Cross Validation"
   ]
  },
  {
   "cell_type": "code",
   "execution_count": 27,
   "metadata": {},
   "outputs": [],
   "source": [
    "'''\n",
    "https://spark.apache.org/docs/latest/ml-classification-regression.html\n",
    "'''\n",
    "try:\n",
    "    mlr = LogisticRegression(maxIter=10, regParam=0.3, elasticNetParam=0.8, family=\"multinomial\")\n",
    "\n",
    "    from pyspark.ml.tuning import ParamGridBuilder, CrossValidator\n",
    "\n",
    "    # Create ParamGrid for Cross Validation\n",
    "    paramGrid = (ParamGridBuilder()\n",
    "       .addGrid(mlr.regParam, [0.1, 0.3, 0.5]) # regularization parameter\n",
    "       .addGrid(mlr.elasticNetParam, [0.0, 0.1, 0.2]) # Elastic Net Parameter (Ridge = 0)\n",
    "    #  .addGrid(model.maxIter, [10, 20, 50]) #Number of iterations\n",
    "    #  .addGrid(idf.numFeatures, [10, 100, 1000]) # Number of features\n",
    "       .build())\n",
    "\n",
    "    # Create 5-fold CrossValidator\n",
    "    cv = CrossValidator(estimator=mlr, \\\n",
    "                    estimatorParamMaps=paramGrid, \\\n",
    "                    evaluator=evaluator, \\\n",
    "                    numFolds=5)\n",
    "    cvModel = cv.fit(trainingData)\n",
    "\n",
    "    predictions = cvModel.transform(testData)\n",
    "except: \n",
    "    print(\"Unexpected error:\", sys.exc_info()[0])"
   ]
  },
  {
   "cell_type": "code",
   "execution_count": 28,
   "metadata": {},
   "outputs": [
    {
     "data": {
      "text/plain": [
       "0.8114624501741363"
      ]
     },
     "execution_count": 28,
     "metadata": {},
     "output_type": "execute_result"
    }
   ],
   "source": [
    "'''\n",
    "https://spark.apache.org/docs/latest/ml-classification-regression.html\n",
    "'''\n",
    "evaluator = MulticlassClassificationEvaluator(predictionCol=\"prediction\")\n",
    "evaluator.evaluate(predictions)\n"
   ]
  },
  {
   "cell_type": "markdown",
   "metadata": {},
   "source": [
    "## Naive Bayes"
   ]
  },
  {
   "cell_type": "code",
   "execution_count": 29,
   "metadata": {},
   "outputs": [
    {
     "name": "stdout",
     "output_type": "stream",
     "text": [
      "+------------------------------+---------+------------------------------+-----+----------+\n",
      "|                filtered_words|sentiment|                   probability|label|prediction|\n",
      "+------------------------------+---------+------------------------------+-----+----------+\n",
      "|[teacher, covid, vaccine, a...| Positive|[0.9999999996245053,1.27174...|  0.0|       0.0|\n",
      "|[teacher, covid, vaccine, a...| Positive|[0.9999999996245053,1.27174...|  0.0|       0.0|\n",
      "|[teacher, covid, vaccine, a...| Positive|[0.9999999996245053,1.27174...|  0.0|       0.0|\n",
      "|[spoke, friends, mine, los,...| Positive|[0.9999999993750599,4.55901...|  0.0|       0.0|\n",
      "|[brilliant, skit, perfectly...| Positive|[0.9999999984650507,5.45297...|  0.0|       0.0|\n",
      "|[brilliant, skit, perfectly...| Positive|[0.9999999984650507,5.45297...|  0.0|       0.0|\n",
      "|[brilliant, skit, perfectly...| Positive|[0.9999999984650507,5.45297...|  0.0|       0.0|\n",
      "|[brilliant, skit, perfectly...| Positive|[0.9999999984650507,5.45297...|  0.0|       0.0|\n",
      "|[pfizer, astrazeneca, vacci...| Positive|[0.9999999979743734,2.00710...|  0.0|       0.0|\n",
      "|[pfizer, astrazeneca, vacci...| Positive|[0.9999999979743734,2.00710...|  0.0|       0.0|\n",
      "+------------------------------+---------+------------------------------+-----+----------+\n",
      "only showing top 10 rows\n",
      "\n"
     ]
    }
   ],
   "source": [
    "'''\n",
    "https://spark.apache.org/docs/latest/ml-classification-regression.html\n",
    "'''\n",
    "try:\n",
    "    from pyspark.ml.classification import NaiveBayes\n",
    "\n",
    "    nb = NaiveBayes(smoothing=1)\n",
    "    model = nb.fit(trainingData)\n",
    "    predictions = model.transform(testData)\n",
    "    predictions.filter(predictions['prediction'] == 0) \\\n",
    "        .select(\"filtered_words\",\"sentiment\",\"probability\",\"label\",\"prediction\") \\\n",
    "        .orderBy(\"probability\", ascending=False) \\\n",
    "        .show(n = 10, truncate = 30)\n",
    "except: \n",
    "    print(\"Unexpected error:\", sys.exc_info()[0])"
   ]
  },
  {
   "cell_type": "code",
   "execution_count": 30,
   "metadata": {},
   "outputs": [
    {
     "data": {
      "text/plain": [
       "0.73929414984011"
      ]
     },
     "execution_count": 30,
     "metadata": {},
     "output_type": "execute_result"
    }
   ],
   "source": [
    "'''\n",
    "https://spark.apache.org/docs/latest/ml-classification-regression.html\n",
    "'''\n",
    "evaluator = MulticlassClassificationEvaluator(predictionCol=\"prediction\")\n",
    "evaluator.evaluate(predictions)\n"
   ]
  },
  {
   "cell_type": "markdown",
   "metadata": {},
   "source": [
    "## Random Forest"
   ]
  },
  {
   "cell_type": "code",
   "execution_count": 31,
   "metadata": {},
   "outputs": [
    {
     "name": "stdout",
     "output_type": "stream",
     "text": [
      "+------------------------------+---------+------------------------------+-----+----------+\n",
      "|                filtered_words|sentiment|                   probability|label|prediction|\n",
      "+------------------------------+---------+------------------------------+-----+----------+\n",
      "|[pfizer, astrazeneca, vacci...| Positive|[0.5578192741339891,0.34931...|  0.0|       0.0|\n",
      "|[pfizer, astrazeneca, vacci...| Positive|[0.5578192741339891,0.34931...|  0.0|       0.0|\n",
      "|[pfizer, astrazeneca, vacci...| Positive|[0.5578192741339891,0.34931...|  0.0|       0.0|\n",
      "|[pfizer, astrazeneca, vacci...| Positive|[0.5578192741339891,0.34931...|  0.0|       0.0|\n",
      "|[pfizer, astrazeneca, vacci...| Positive|[0.5578192741339891,0.34931...|  0.0|       0.0|\n",
      "|[pfizer, astrazeneca, vacci...| Positive|[0.5578192741339891,0.34931...|  0.0|       0.0|\n",
      "|[pfizer, astrazeneca, vacci...| Positive|[0.5578192741339891,0.34931...|  0.0|       0.0|\n",
      "|[pfizer, astrazeneca, vacci...| Positive|[0.5578192741339891,0.34931...|  0.0|       0.0|\n",
      "|[pfizer, astrazeneca, vacci...| Positive|[0.5578192741339891,0.34931...|  0.0|       0.0|\n",
      "|[pfizer, astrazeneca, vacci...| Positive|[0.5578192741339891,0.34931...|  0.0|       0.0|\n",
      "+------------------------------+---------+------------------------------+-----+----------+\n",
      "only showing top 10 rows\n",
      "\n"
     ]
    }
   ],
   "source": [
    "'''\n",
    "https://spark.apache.org/docs/latest/ml-classification-regression.html\n",
    "'''\n",
    "try:\n",
    "    from pyspark.ml.classification import RandomForestClassifier\n",
    "\n",
    "    rf = RandomForestClassifier(labelCol=\"label\", \\\n",
    "                            featuresCol=\"features\", \\\n",
    "                            numTrees = 100, \\\n",
    "                            maxDepth = 4, \\\n",
    "                            maxBins = 32)\n",
    "\n",
    "    # Train model with Training Data\n",
    "    rfModel = rf.fit(trainingData)\n",
    "\n",
    "    # Predict performance on Test Data\n",
    "    predictions = rfModel.transform(testData)\n",
    "    predictions.filter(predictions['prediction'] == 0) \\\n",
    "        .select(\"filtered_words\",\"sentiment\",\"probability\",\"label\",\"prediction\") \\\n",
    "        .orderBy(\"probability\", ascending=False) \\\n",
    "        .show(n = 10, truncate = 30)\n",
    "except: \n",
    "    print(\"Unexpected error:\", sys.exc_info()[0])"
   ]
  },
  {
   "cell_type": "code",
   "execution_count": 32,
   "metadata": {},
   "outputs": [
    {
     "data": {
      "text/plain": [
       "0.5092295258809857"
      ]
     },
     "execution_count": 32,
     "metadata": {},
     "output_type": "execute_result"
    }
   ],
   "source": [
    "'''\n",
    "https://spark.apache.org/docs/latest/ml-classification-regression.html\n",
    "'''\n",
    "evaluator = MulticlassClassificationEvaluator(predictionCol=\"prediction\")\n",
    "evaluator.evaluate(predictions)\n"
   ]
  },
  {
   "cell_type": "markdown",
   "metadata": {},
   "source": [
    "## Logistic Regression using TF-IDF Features"
   ]
  },
  {
   "cell_type": "markdown",
   "metadata": {},
   "source": [
    "**New Pipeline**"
   ]
  },
  {
   "cell_type": "code",
   "execution_count": 33,
   "metadata": {},
   "outputs": [
    {
     "name": "stdout",
     "output_type": "stream",
     "text": [
      "-RECORD 0--------------------------------------------------------------------------------------------------------------------------------------------------------------------------------------------------------------------------------------------------------------------------------------------------------\n",
      " text             | The Pfizer-BioNTech and Moderna Covid-19 vaccines may protect against the coronavirus for years, a study of more than a dozen…                                                                                                                                                               \n",
      " words            | [the, pfizer-biontech, and, moderna, covid-19, vaccines, may, protect, against, the, coronavirus, for, years,, a, study, of, more, than, a, dozen…]                                                                                                                                          \n",
      " filtered_words   | [pfizer-biontech, moderna, covid-19, vaccines, may, protect, coronavirus, years,, study, dozen…]                                                                                                                                                                                             \n",
      " punc_cleaned     | [pfizerbiontech, moderna, covid19, vaccines, may, protect, coronavirus, years, study, dozen…]                                                                                                                                                                                                \n",
      " lemmatized_words | [pfizerbiontech, moderna, covid19, vaccine, may, protect, coronavirus, year, study, dozen…]                                                                                                                                                                                                  \n",
      " rawFeatures      | (10000,[2102,2146,4224,5782,7235,7369,7697,8442,8506,9160],[1.0,1.0,1.0,1.0,1.0,1.0,1.0,1.0,1.0,1.0])                                                                                                                                                                                        \n",
      " features         | (10000,[2102,2146,4224,5782,7235,7369,7697,8442,8506,9160],[4.06474409244581,2.3286735290783436,3.3347829387631482,3.8824225356518554,4.11603738683336,4.495527008538264,2.2688266130690913,4.040051479855438,2.7101984296404997,3.2992762503062387])                                        \n",
      " sentiment        | Positive                                                                                                                                                                                                                                                                                     \n",
      " label            | 0.0                                                                                                                                                                                                                                                                                          \n",
      "-RECORD 1--------------------------------------------------------------------------------------------------------------------------------------------------------------------------------------------------------------------------------------------------------------------------------------------------------\n",
      " text             | Pfizer and Moderna vaccines may protect against COVID-19 for years  via\"\"                                                                                                                                                                                                                    \n",
      " words            | [pfizer, and, moderna, vaccines, may, protect, against, covid-19, for, years, via\"\"]                                                                                                                                                                                                         \n",
      " filtered_words   | [pfizer, moderna, vaccines, may, protect, covid-19, years, via\"\"]                                                                                                                                                                                                                            \n",
      " punc_cleaned     | [pfizer, moderna, vaccines, may, protect, covid19, years, via]                                                                                                                                                                                                                               \n",
      " lemmatized_words | [pfizer, moderna, vaccine, may, protect, covid19, year, via]                                                                                                                                                                                                                                 \n",
      " rawFeatures      | (10000,[2146,2753,7235,7697,7885,8442,8506,9160],[1.0,1.0,1.0,1.0,1.0,1.0,1.0,1.0])                                                                                                                                                                                                          \n",
      " features         | (10000,[2146,2753,7235,7697,7885,8442,8506,9160],[2.3286735290783436,4.7091011088363235,4.11603738683336,2.2688266130690913,1.6202255035630977,4.040051479855438,2.7101984296404997,3.2992762503062387])                                                                                     \n",
      " sentiment        | Positive                                                                                                                                                                                                                                                                                     \n",
      " label            | 0.0                                                                                                                                                                                                                                                                                          \n",
      "-RECORD 2--------------------------------------------------------------------------------------------------------------------------------------------------------------------------------------------------------------------------------------------------------------------------------------------------------\n",
      " text             | The Pfizer-BioNTech and Moderna Covid-19 vaccines may protect against the coronavirus for years, a study of more than a dozen…                                                                                                                                                               \n",
      " words            | [the, pfizer-biontech, and, moderna, covid-19, vaccines, may, protect, against, the, coronavirus, for, years,, a, study, of, more, than, a, dozen…]                                                                                                                                          \n",
      " filtered_words   | [pfizer-biontech, moderna, covid-19, vaccines, may, protect, coronavirus, years,, study, dozen…]                                                                                                                                                                                             \n",
      " punc_cleaned     | [pfizerbiontech, moderna, covid19, vaccines, may, protect, coronavirus, years, study, dozen…]                                                                                                                                                                                                \n",
      " lemmatized_words | [pfizerbiontech, moderna, covid19, vaccine, may, protect, coronavirus, year, study, dozen…]                                                                                                                                                                                                  \n",
      " rawFeatures      | (10000,[2102,2146,4224,5782,7235,7369,7697,8442,8506,9160],[1.0,1.0,1.0,1.0,1.0,1.0,1.0,1.0,1.0,1.0])                                                                                                                                                                                        \n",
      " features         | (10000,[2102,2146,4224,5782,7235,7369,7697,8442,8506,9160],[4.06474409244581,2.3286735290783436,3.3347829387631482,3.8824225356518554,4.11603738683336,4.495527008538264,2.2688266130690913,4.040051479855438,2.7101984296404997,3.2992762503062387])                                        \n",
      " sentiment        | Positive                                                                                                                                                                                                                                                                                     \n",
      " label            | 0.0                                                                                                                                                                                                                                                                                          \n",
      "-RECORD 3--------------------------------------------------------------------------------------------------------------------------------------------------------------------------------------------------------------------------------------------------------------------------------------------------------\n",
      " text             | Great news — Pfizer &amp; Moderna vaccines may protect the body for years ... Yay science                                                                                                                                                                                                    \n",
      " words            | [great, news, — pfizer, &amp;, moderna, vaccines, may, protect, the, body, for, years, ..., yay, science]                                                                                                                                                                                    \n",
      " filtered_words   | [great, news, — pfizer, &amp;, moderna, vaccines, may, protect, body, years, ..., yay, science]                                                                                                                                                                                              \n",
      " punc_cleaned     | [great, news, — pfizer, amp, moderna, vaccines, may, protect, body, years, , yay, science]                                                                                                                                                                                                   \n",
      " lemmatized_words | [great, news, — pfizer, amp, moderna, vaccine, may, protect, body, year, , yay, science]                                                                                                                                                                                                     \n",
      " rawFeatures      | (10000,[750,841,1955,2146,2433,3363,3372,4926,7235,7697,8137,8442,9160],[1.0,1.0,1.0,1.0,1.0,1.0,1.0,1.0,1.0,1.0,1.0,1.0,1.0])                                                                                                                                                               \n",
      " features         | (10000,[750,841,1955,2146,2433,3363,3372,4926,7235,7697,8137,8442,9160],[4.8632517886635815,5.114566216944487,0.0,2.3286735290783436,4.257115985093266,5.355728273761375,2.588837572636232,2.7231856251673108,4.11603738683336,2.2688266130690913,0.0,4.040051479855438,3.2992762503062387]) \n",
      " sentiment        | Positive                                                                                                                                                                                                                                                                                     \n",
      " label            | 0.0                                                                                                                                                                                                                                                                                          \n",
      "-RECORD 4--------------------------------------------------------------------------------------------------------------------------------------------------------------------------------------------------------------------------------------------------------------------------------------------------------\n",
      " text             | The Pfizer-BioNTech and Moderna Covid-19 vaccines may protect against the coronavirus for years, a study of more than a dozen…                                                                                                                                                               \n",
      " words            | [the, pfizer-biontech, and, moderna, covid-19, vaccines, may, protect, against, the, coronavirus, for, years,, a, study, of, more, than, a, dozen…]                                                                                                                                          \n",
      " filtered_words   | [pfizer-biontech, moderna, covid-19, vaccines, may, protect, coronavirus, years,, study, dozen…]                                                                                                                                                                                             \n",
      " punc_cleaned     | [pfizerbiontech, moderna, covid19, vaccines, may, protect, coronavirus, years, study, dozen…]                                                                                                                                                                                                \n",
      " lemmatized_words | [pfizerbiontech, moderna, covid19, vaccine, may, protect, coronavirus, year, study, dozen…]                                                                                                                                                                                                  \n",
      " rawFeatures      | (10000,[2102,2146,4224,5782,7235,7369,7697,8442,8506,9160],[1.0,1.0,1.0,1.0,1.0,1.0,1.0,1.0,1.0,1.0])                                                                                                                                                                                        \n",
      " features         | (10000,[2102,2146,4224,5782,7235,7369,7697,8442,8506,9160],[4.06474409244581,2.3286735290783436,3.3347829387631482,3.8824225356518554,4.11603738683336,4.495527008538264,2.2688266130690913,4.040051479855438,2.7101984296404997,3.2992762503062387])                                        \n",
      " sentiment        | Positive                                                                                                                                                                                                                                                                                     \n",
      " label            | 0.0                                                                                                                                                                                                                                                                                          \n",
      "only showing top 5 rows\n",
      "\n"
     ]
    }
   ],
   "source": [
    "'''\n",
    "https://spark.apache.org/docs/latest/ml-classification-regression.html\n",
    "https://spark.apache.org/docs/latest/ml-features.html\n",
    "https://stackoverflow.com/questions/58038919/removing-punctuation-in-spark-dataframe\n",
    "https://stackoverflow.com/questions/59850159/nltk-wordnet-lemmatization-with-pos-tag-on-pyspark-dataframe\n",
    "https://www.machinelearningplus.com/nlp/lemmatization-examples-python/#wordnetlemmatizer\n",
    "'''\n",
    "# new pipeline\n",
    "try:\n",
    "    # tokenizing \n",
    "    tokenizer = RegexTokenizer(inputCol=\"text\", outputCol=\"words\")\n",
    "    wordsData = tokenizer.transform(worldwide_combined_df)\n",
    "\n",
    "    # stop words\n",
    "    add_stopwords = [\"i\", \"me\", \"my\", \"myself\", \"we\", \"our\", \"ours\", \"ourselves\", \"you\", \"your\", \"yours\", \"yourself\", \"yourselves\", \n",
    "                     \"he\", \"him\", \"his\", \"himself\", \"she\", \"her\", \"hers\", \"herself\", \"it\", \"its\", \"itself\", \"they\", \"them\", \"their\", \"theirs\", \"themselves\", \n",
    "                     \"what\", \"which\", \"who\", \"whom\", \"this\", \"that\", \"these\", \"those\", \"am\", \"is\", \"are\", \"was\", \"were\", \"be\", \"been\", \"being\", \n",
    "                     \"have\", \"has\", \"had\", \"having\", \"do\", \"does\", \"did\", \"doing\", \"a\", \"an\", \"the\", \"and\", \"but\", \"if\", \"or\", \"because\", \"as\", \n",
    "                     \"until\", \"while\", \"of\", \"at\", \"by\", \"for\", \"with\", \"about\", \"against\", \"between\", \"into\", \"through\", \"during\", \"before\", \"after\", \"above\", \"below\", \n",
    "                     \"to\", \"from\", \"up\", \"down\", \"in\", \"out\", \"on\", \"off\", \"over\", \"under\", \"again\", \"further\", \"then\", \"once\", \"here\", \"there\", \"when\", \"where\", \"why\", \"how\", \n",
    "                     \"all\", \"any\", \"both\", \"each\", \"few\", \"more\", \"most\", \"other\", \"some\", \"such\", \"no\", \"nor\", \"not\", \"only\", \"own\", \"same\", \"so\", \"than\", \"too\", \"very\", \n",
    "                     \"s\", \"t\", \"can\", \"will\", \"just\", \"don\", \"should\", \"now\"]\n",
    "    remover = StopWordsRemover(inputCol=\"words\", outputCol=\"filtered_words\").setStopWords(add_stopwords)\n",
    "    filteredData = remover.transform(wordsData)\n",
    "\n",
    "    # remove punctuation\n",
    "    def removePunctuation(column):\n",
    "        return split(trim(lower(regexp_replace(concat_ws(\" \", column),'\\\\p{Punct}', ''))), \" \")\n",
    "\n",
    "    filteredData = filteredData.withColumn(\"punc_cleaned\", removePunctuation(filteredData.filtered_words))\n",
    "\n",
    "    # lemmatization\n",
    "    def get_wordnet_pos(treebank_tag):\n",
    "        \"\"\"\n",
    "        return WORDNET POS compliance to WORDNET lemmatization (a,n,r,v) \n",
    "        \"\"\"\n",
    "        if treebank_tag.startswith('J'):\n",
    "                return 'a'\n",
    "        elif treebank_tag.startswith('V'):\n",
    "                return 'v'\n",
    "        elif treebank_tag.startswith('N'):\n",
    "                return 'n'\n",
    "        elif treebank_tag.startswith('R'):\n",
    "                return 'r'\n",
    "        else:\n",
    "        # As default pos in lemmatization is Noun\n",
    "            return 'n'\n",
    "\n",
    "    def lemmatization(data_str):\n",
    "        # expects a string\n",
    "        list_pos = 0\n",
    "        cleaned_str = []\n",
    "        lemmatizer = WordNetLemmatizer()\n",
    "        #text = data_str.split()\n",
    "        tagged_words = nltk.pos_tag(data_str)\n",
    "        for word in tagged_words:\n",
    "            lemma = lemmatizer.lemmatize(word[0], get_wordnet_pos(word[1]))\n",
    "            cleaned_str.append(lemma)\n",
    "            list_pos += 1\n",
    "        return cleaned_str\n",
    "\n",
    "    sparkLemmer = udf(lambda x: lemmatization(x), ArrayType(StringType()))\n",
    "    lemmaDataFrame = filteredData.withColumn(\"lemmatized_words\", sparkLemmer(filteredData.punc_cleaned))\n",
    "\n",
    "    countTokens = udf(lambda words: len(words), IntegerType())\n",
    "    tokenizedData = lemmaDataFrame.withColumn(\"tokens\", countTokens(col(\"lemmatized_words\")))\n",
    "\n",
    "    # bigrams\n",
    "    ngram = NGram(n=2, inputCol=\"lemmatized_words\", outputCol=\"ngrams\")\n",
    "    ngramDataFrame = ngram.transform(tokenizedData)\n",
    "\n",
    "    # Creaating term frequency vector \n",
    "    # Fit a HashingTF from the corpus\n",
    "    hashingTF = HashingTF(inputCol=\"punc_cleaned\", outputCol=\"rawFeatures\", numFeatures=10000)\n",
    "    rawFeaturizedData = hashingTF.transform(ngramDataFrame)\n",
    "\n",
    "    # Creating inverse document frequency \n",
    "    idf = IDF(inputCol=\"rawFeatures\", outputCol=\"features\", minDocFreq=5) #minDocFreq: remove sparse terms\n",
    "    idfModel = idf.fit(rawFeaturizedData)\n",
    "    rescaledData = idfModel.transform(rawFeaturizedData)\n",
    "\n",
    "    # stringindexer\n",
    "    label_stringIdx = StringIndexer(inputCol = \"sentiment\", outputCol = \"label\")\n",
    "    indexedDataFrame = label_stringIdx.fit(rescaledData).transform(rescaledData)\n",
    "    indexedDataFrame.select(\"text\", \"words\", \"filtered_words\", \"punc_cleaned\", \"lemmatized_words\", \"rawFeatures\", \"features\", \"sentiment\", \"label\").show(5, vertical=True, truncate = False)\n",
    "except: \n",
    "    print(\"Unexpected error:\", sys.exc_info()[0])"
   ]
  },
  {
   "cell_type": "code",
   "execution_count": 34,
   "metadata": {},
   "outputs": [
    {
     "name": "stdout",
     "output_type": "stream",
     "text": [
      "+------------------------------+---------+------------------------------+-----+----------+\n",
      "|                filtered_words|sentiment|                   probability|label|prediction|\n",
      "+------------------------------+---------+------------------------------+-----+----------+\n",
      "|[*an, actual, vaccine, appo...|  Neutral|[0.4471940507476786,0.42848...|  1.0|       0.0|\n",
      "|[600,000, pfizer, vaccines,...|  Neutral|[0.4471940507476786,0.42848...|  1.0|       0.0|\n",
      "|               [fucking, time]| Negative|[0.4471940507476786,0.42848...|  2.0|       0.0|\n",
      "|[az, risk/benefit, balance,...|  Neutral|[0.4471940507476786,0.42848...|  1.0|       0.0|\n",
      "|[az, second, shot, pun, sen...| Positive|[0.4471940507476786,0.42848...|  0.0|       0.0|\n",
      "|[anyone, age, (approved, fo...|  Neutral|[0.4471940507476786,0.42848...|  1.0|       0.0|\n",
      "|[astra, zeneca, isn't, good...| Positive|[0.4471940507476786,0.42848...|  0.0|       0.0|\n",
      "|[moderna, 45, miles, home, ...| Negative|[0.4471940507476786,0.42848...|  2.0|       0.0|\n",
      "|[there's, nothing, say, gui...|  Neutral|[0.4471940507476786,0.42848...|  1.0|       0.0|\n",
      "|[breaking, national, cabine...|  Neutral|[0.4471940507476786,0.42848...|  1.0|       0.0|\n",
      "+------------------------------+---------+------------------------------+-----+----------+\n",
      "only showing top 10 rows\n",
      "\n",
      "Multinomial coefficients: 3 X 10000 CSRMatrix\n",
      "\n",
      "Multinomial intercepts: [0.4409547506527731,0.398218382450299,-0.8391731331030721]\n"
     ]
    }
   ],
   "source": [
    "'''\n",
    "https://spark.apache.org/docs/latest/ml-classification-regression.html\n",
    "'''\n",
    "try:\n",
    "    # Splitting into test and train data\n",
    "    splits = indexedDataFrame.randomSplit([0.7, 0.3], seed = 123)\n",
    "    trainingData = splits[0]\n",
    "    testData = splits[1]\n",
    "\n",
    "    mlr = LogisticRegression(maxIter=10, regParam=0.3, elasticNetParam=0.8, family=\"multinomial\")\n",
    "    mlrModel = mlr.fit(trainingData)\n",
    "    predictions = mlrModel.transform(testData)\n",
    "    predictions.filter(predictions['prediction'] == 0) \\\n",
    "        .select(\"filtered_words\",\"sentiment\",\"probability\",\"label\",\"prediction\") \\\n",
    "        .orderBy(\"probability\", ascending=False) \\\n",
    "        .show(n = 10, truncate = 30)\n",
    "\n",
    "    # Print the coefficients and intercepts for logistic regression with multinomial family\n",
    "    print(\"Multinomial coefficients: \" + str(mlrModel.coefficientMatrix))\n",
    "    print(\"Multinomial intercepts: \" + str(mlrModel.interceptVector))\n",
    "except: \n",
    "    print(\"Unexpected error:\", sys.exc_info()[0])"
   ]
  },
  {
   "cell_type": "code",
   "execution_count": 35,
   "metadata": {},
   "outputs": [
    {
     "data": {
      "text/plain": [
       "0.2740210141729194"
      ]
     },
     "execution_count": 35,
     "metadata": {},
     "output_type": "execute_result"
    }
   ],
   "source": [
    "'''\n",
    "https://spark.apache.org/docs/latest/ml-classification-regression.html\n",
    "'''\n",
    "evaluator = MulticlassClassificationEvaluator(predictionCol=\"prediction\")\n",
    "evaluator.evaluate(predictions)\n"
   ]
  },
  {
   "cell_type": "code",
   "execution_count": 36,
   "metadata": {},
   "outputs": [
    {
     "name": "stdout",
     "output_type": "stream",
     "text": [
      "objectiveHistory:\n",
      "0.9822220752190302\n",
      "0.9822219052463248\n",
      "0.9822214243313637\n",
      "0.9822214210304288\n",
      "0.9822214207034797\n",
      "0.9822214206798588\n",
      "0.9822214206617971\n",
      "False positive rate by label:\n",
      "label 0: 1.0\n",
      "label 1: 0.0\n",
      "label 2: 0.0\n",
      "True positive rate by label:\n",
      "label 0: 1.0\n",
      "label 1: 0.0\n",
      "label 2: 0.0\n",
      "Precision by label:\n",
      "label 0: 0.4471937235968618\n",
      "label 1: 0.0\n",
      "label 2: 0.0\n",
      "Recall by label:\n",
      "label 0: 1.0\n",
      "label 1: 0.0\n",
      "label 2: 0.0\n",
      "F-measure by label:\n",
      "label 0: 0.6180150125104253\n",
      "label 1: 0.0\n",
      "label 2: 0.0\n",
      "Accuracy: 0.4471937235968618\n",
      "FPR: 0.4471937235968618\n",
      "TPR: 0.4471937235968618\n",
      "F-measure: 0.27637243468329825\n",
      "Precision: 0.19998222642442645\n",
      "Recall: 0.4471937235968618\n"
     ]
    }
   ],
   "source": [
    "'''\n",
    "https://spark.apache.org/docs/latest/ml-classification-regression.html\n",
    "'''\n",
    "try:\n",
    "    trainingSummary = mlrModel.summary\n",
    "\n",
    "    # Obtain the objective per iteration\n",
    "    objectiveHistory = trainingSummary.objectiveHistory\n",
    "    print(\"objectiveHistory:\")\n",
    "    for objective in objectiveHistory:\n",
    "        print(objective)\n",
    "\n",
    "    # for multiclass Logistic Regression, we can inspect metrics on a per-label basis\n",
    "    print(\"False positive rate by label:\")\n",
    "    for i, rate in enumerate(trainingSummary.falsePositiveRateByLabel):\n",
    "        print(\"label %d: %s\" % (i, rate))\n",
    "\n",
    "    print(\"True positive rate by label:\")\n",
    "    for i, rate in enumerate(trainingSummary.truePositiveRateByLabel):\n",
    "        print(\"label %d: %s\" % (i, rate))\n",
    "\n",
    "    print(\"Precision by label:\")\n",
    "    for i, prec in enumerate(trainingSummary.precisionByLabel):\n",
    "        print(\"label %d: %s\" % (i, prec))\n",
    "\n",
    "    print(\"Recall by label:\")\n",
    "    for i, rec in enumerate(trainingSummary.recallByLabel):\n",
    "        print(\"label %d: %s\" % (i, rec))\n",
    "\n",
    "    print(\"F-measure by label:\")\n",
    "    for i, f in enumerate(trainingSummary.fMeasureByLabel()):\n",
    "        print(\"label %d: %s\" % (i, f))\n",
    "\n",
    "    accuracy = trainingSummary.accuracy\n",
    "    falsePositiveRate = trainingSummary.weightedFalsePositiveRate\n",
    "    truePositiveRate = trainingSummary.weightedTruePositiveRate\n",
    "    fMeasure = trainingSummary.weightedFMeasure()\n",
    "    precision = trainingSummary.weightedPrecision\n",
    "    recall = trainingSummary.weightedRecall\n",
    "    print(\"Accuracy: %s\\nFPR: %s\\nTPR: %s\\nF-measure: %s\\nPrecision: %s\\nRecall: %s\"\n",
    "          % (accuracy, falsePositiveRate, truePositiveRate, fMeasure, precision, recall))\n",
    "except: \n",
    "    print(\"Unexpected error:\", sys.exc_info()[0])"
   ]
  },
  {
   "cell_type": "code",
   "execution_count": null,
   "metadata": {},
   "outputs": [],
   "source": []
  },
  {
   "cell_type": "code",
   "execution_count": null,
   "metadata": {},
   "outputs": [],
   "source": []
  },
  {
   "cell_type": "code",
   "execution_count": null,
   "metadata": {},
   "outputs": [],
   "source": []
  },
  {
   "cell_type": "code",
   "execution_count": null,
   "metadata": {},
   "outputs": [],
   "source": []
  },
  {
   "cell_type": "code",
   "execution_count": null,
   "metadata": {},
   "outputs": [],
   "source": []
  }
 ],
 "metadata": {
  "kernelspec": {
   "display_name": "Python 3",
   "language": "python",
   "name": "python3"
  },
  "language_info": {
   "codemirror_mode": {
    "name": "ipython",
    "version": 3
   },
   "file_extension": ".py",
   "mimetype": "text/x-python",
   "name": "python",
   "nbconvert_exporter": "python",
   "pygments_lexer": "ipython3",
   "version": "3.8.6"
  }
 },
 "nbformat": 4,
 "nbformat_minor": 4
}
