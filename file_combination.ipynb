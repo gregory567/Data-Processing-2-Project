{
 "cells": [
  {
   "cell_type": "markdown",
   "metadata": {},
   "source": [
    "## File Combination ##"
   ]
  },
  {
   "cell_type": "code",
   "execution_count": 13,
   "metadata": {},
   "outputs": [],
   "source": [
    "#preparation\n",
    "import findspark\n",
    "findspark.init(\"/usr/local/spark/\")\n",
    "\n",
    "from pyspark.sql import SparkSession\n",
    "spark = SparkSession.builder \\\n",
    "   .master(\"local\") \\\n",
    "   .appName(\"experiment\") \\\n",
    "   .config(\"spark.executor.memory\", \"1gb\") \\\n",
    "   .getOrCreate()"
   ]
  },
  {
   "cell_type": "code",
   "execution_count": 14,
   "metadata": {},
   "outputs": [],
   "source": [
    "#building the schema for our pyspark dataframe\n",
    "import pyspark.sql.functions as F\n",
    "from pyspark.sql import SQLContext\n",
    "from pyspark.sql.types import *\n",
    "sqlContext = SQLContext(spark)\n",
    "\n",
    "customSchema = StructType([ \\\n",
    "StructField(\"text\", StringType(), True), \\\n",
    "StructField(\"date\", StringType(), True), \\\n",
    "StructField(\"location\", StringType(), True), \\\n",
    "StructField(\"polarity\", StringType(), True), \\\n",
    "StructField(\"subjectivity\", StringType(), True), \\\n",
    "StructField(\"classification\", StringType(), True)])"
   ]
  },
  {
   "cell_type": "code",
   "execution_count": 15,
   "metadata": {},
   "outputs": [
    {
     "name": "stdout",
     "output_type": "stream",
     "text": [
      "+--------------------+--------------------+--------------+--------+------------+--------------+\n",
      "|                text|                date|      location|polarity|subjectivity|classification|\n",
      "+--------------------+--------------------+--------------+--------+------------+--------------+\n",
      "|💉 Community phar...|Fri Jul 02 08:04:...|Kerry, Ireland|     0.0|         0.0|       Neutral|\n",
      "|⚡️ Pharmacies can...|                null|          null|    null|        null|          null|\n",
      "| on Morning Ireland\"|Fri Jul 02 08:04:...|       Ireland|     0.0|         0.0|       Neutral|\n",
      "|💉 And then from ...|                null|          null|    null|        null|          null|\n",
      "|18-34 year olds c...|Fri Jul 02 08:05:...|       Ireland|     0.0|         0.0|       Neutral|\n",
      "+--------------------+--------------------+--------------+--------+------------+--------------+\n",
      "only showing top 5 rows\n",
      "\n"
     ]
    }
   ],
   "source": [
    "#combining all csv-files of the Johnson-World-tweets into one pyspark dataframe\n",
    "try:\n",
    "    import os\n",
    "    os.chdir(\"/home/jovyan\")\n",
    "    fullpath_jnj = './combined_johnson&johnson_worldwide/*.csv'\n",
    "\n",
    "    df_jj = spark.read.format(\"csv\") \\\n",
    "       .option(\"header\", \"false\") \\\n",
    "       .option(\"sep\",\",\") \\\n",
    "       .schema(customSchema) \\\n",
    "       .load(fullpath_jnj) \\\n",
    "    \n",
    "    df_jj.show(5)\n",
    "except: \n",
    "    print(\"Unexpected error:\", sys.exc_info()[0])"
   ]
  },
  {
   "cell_type": "code",
   "execution_count": 16,
   "metadata": {},
   "outputs": [
    {
     "name": "stdout",
     "output_type": "stream",
     "text": [
      "+--------------------+--------------------+--------------------+--------+------------+--------------+\n",
      "|                text|                date|            location|polarity|subjectivity|classification|\n",
      "+--------------------+--------------------+--------------------+--------+------------+--------------+\n",
      "|The Pfizer-BioNTe...|Mon Jun 28 14:43:...|Johannesburg, Sou...|     0.5|         0.5|      Positive|\n",
      "|   🤞🏾this is true.|                null|                null|    null|        null|          null|\n",
      "|Pfizer and Modern...|Mon Jun 28 14:43:...|       United States|    0.35|        0.65|      Positive|\n",
      "|The Pfizer-BioNTe...|Mon Jun 28 14:43:...|              Mexico|     0.5|         0.5|      Positive|\n",
      "|Great news — Pfiz...|Mon Jun 28 14:43:...|               World|     0.8|        0.75|      Positive|\n",
      "+--------------------+--------------------+--------------------+--------+------------+--------------+\n",
      "only showing top 5 rows\n",
      "\n"
     ]
    }
   ],
   "source": [
    "#combining all csv-files of the Moderna-World-tweets into one pyspark dataframe\n",
    "try:\n",
    "    os.chdir(\"/home/jovyan\")\n",
    "    fullpath_moderna = './combined_moderna_worldwide/*.csv'\n",
    "\n",
    "    df_moderna = spark.read.format(\"csv\") \\\n",
    "       .option(\"header\", \"false\") \\\n",
    "       .option(\"sep\",\",\") \\\n",
    "       .schema(customSchema) \\\n",
    "       .load(fullpath_moderna) \\\n",
    "\n",
    "    df_moderna.show(5)\n",
    "except: \n",
    "    print(\"Unexpected error:\", sys.exc_info()[0])"
   ]
  },
  {
   "cell_type": "code",
   "execution_count": 17,
   "metadata": {},
   "outputs": [
    {
     "name": "stdout",
     "output_type": "stream",
     "text": [
      "+--------------------+--------------------+--------------------+--------------------+-------------------+--------------+\n",
      "|                text|                date|            location|            polarity|       subjectivity|classification|\n",
      "+--------------------+--------------------+--------------------+--------------------+-------------------+--------------+\n",
      "|Pfizer and Modern...|Tue Jun 29 08:14:...|            Houilles| 0.13636363636363635|0.45454545454545453|      Positive|\n",
      "|About half of adu...|Tue Jun 29 08:15:...|      Greenville, SC|-0.16666666666666666|0.16666666666666666|      Negative|\n",
      "|I booked in two P...|Tue Jun 29 08:15:...|Bathtub full of piss|                 0.0|                0.0|       Neutral|\n",
      "|Rollout of the se...|Tue Jun 29 08:15:...|Pretoria, South A...|           -0.078125|           0.421875|      Negative|\n",
      "|                   .|                null|                null|                null|               null|          null|\n",
      "+--------------------+--------------------+--------------------+--------------------+-------------------+--------------+\n",
      "only showing top 5 rows\n",
      "\n"
     ]
    }
   ],
   "source": [
    "#combining all csv-files of the Pfizer-World-tweets into one pyspark dataframe\n",
    "try:\n",
    "    os.chdir(\"/home/jovyan\")\n",
    "    fullpath_pfizer = './combined_pfizer_worldwide/*.csv'\n",
    "\n",
    "    df_pfizer = spark.read.format(\"csv\") \\\n",
    "       .option(\"header\", \"false\") \\\n",
    "       .option(\"sep\",\",\") \\\n",
    "       .schema(customSchema) \\\n",
    "       .load(fullpath_pfizer) \\\n",
    "\n",
    "    df_pfizer.show(5)\n",
    "except: \n",
    "    print(\"Unexpected error:\", sys.exc_info()[0])"
   ]
  },
  {
   "cell_type": "code",
   "execution_count": 18,
   "metadata": {},
   "outputs": [
    {
     "name": "stdout",
     "output_type": "stream",
     "text": [
      "+--------------------+--------------------+--------------------+--------------------+-------------------+--------------+\n",
      "|                text|                date|            location|            polarity|       subjectivity|classification|\n",
      "+--------------------+--------------------+--------------------+--------------------+-------------------+--------------+\n",
      "|Australia is the ...|                null|                null|                null|               null|          null|\n",
      "|vaccinations Astr...|Mon Jun 28 10:01:...|Terrigal, Central...|                 0.0|                0.0|       Neutral|\n",
      "|Less than a quart...|                null|                null|                null|               null|          null|\n",
      "|Disgraceful negle...|Mon Jun 28 10:01:...| Melbourne, Victoria|-0.16666666666666666|0.06666666666666667|      Negative|\n",
      "|Breaking National...|Mon Jun 28 10:02:...|Melbourne / Kuala...|                 0.0|                0.0|       Neutral|\n",
      "+--------------------+--------------------+--------------------+--------------------+-------------------+--------------+\n",
      "only showing top 5 rows\n",
      "\n"
     ]
    }
   ],
   "source": [
    "#combining all csv-files of the AstraZeneca-World-tweets into one pyspark dataframe\n",
    "try:\n",
    "    os.chdir(\"/home/jovyan\")\n",
    "    fullpath_AstraZeneca = './combined_astra_worldwide/*.csv'\n",
    "\n",
    "    df_astraz = spark.read.format(\"csv\") \\\n",
    "       .option(\"header\", \"false\") \\\n",
    "       .option(\"sep\",\",\") \\\n",
    "       .schema(customSchema) \\\n",
    "       .load(fullpath_AstraZeneca) \\\n",
    "\n",
    "    df_astraz.show(5)\n",
    "except: \n",
    "    print(\"Unexpected error:\", sys.exc_info()[0])"
   ]
  },
  {
   "cell_type": "code",
   "execution_count": 19,
   "metadata": {},
   "outputs": [],
   "source": [
    "try:\n",
    "    os.chdir(\"/home/jovyan/dp2-2021s-teamboehm/Test/TestCombine\")\n",
    "    df_jj.toPandas().to_csv('johnson_combined.csv', index = False)\n",
    "    df_moderna.toPandas().to_csv('moderna_combined.csv', index = False)\n",
    "    df_pfizer.toPandas().to_csv('pfizer_combined.csv', index = False)\n",
    "    df_astraz.toPandas().to_csv('astraz_combined.csv', index = False)\n",
    "except: \n",
    "    print(\"Unexpected error:\", sys.exc_info()[0])"
   ]
  },
  {
   "cell_type": "code",
   "execution_count": 20,
   "metadata": {},
   "outputs": [
    {
     "name": "stdout",
     "output_type": "stream",
     "text": [
      "+--------------------+--------------------+--------------------+------------------+------------------+--------------+\n",
      "|                text|                date|            location|          polarity|      subjectivity|classification|\n",
      "+--------------------+--------------------+--------------------+------------------+------------------+--------------+\n",
      "|My colleague and ...|Fri Jul 02 09:00:...|Scotland, United ...|           -0.0625|            0.1875|      Negative|\n",
      "|The number of tho...|Fri Jul 02 09:01:...|                  UK|             -0.05|               0.7|      Negative|\n",
      "|Is now a fully va...|                null|                null|              null|              null|          null|\n",
      "|fridaymorning Pfi...|Fri Jul 02 09:01:...|          Manchester|0.7083333333333334|0.7416666666666667|      Positive|\n",
      "|Do I cop the Irn ...|Fri Jul 02 09:01:...|   Glasgow, Scotland|               0.0|               0.0|       Neutral|\n",
      "+--------------------+--------------------+--------------------+------------------+------------------+--------------+\n",
      "only showing top 5 rows\n",
      "\n"
     ]
    }
   ],
   "source": [
    "#combining all csv-files of the pfizer-UK-tweets into one pyspark dataframe\n",
    "try:\n",
    "    os.chdir(\"/home/jovyan\")\n",
    "    fullpath = './combined_pfizer_UK/*.csv'\n",
    "\n",
    "    pfizer_UK_df = spark.read.format(\"csv\") \\\n",
    "       .option(\"header\", \"false\") \\\n",
    "       .option(\"sep\",\",\") \\\n",
    "       .schema(customSchema) \\\n",
    "       .load(fullpath) \\\n",
    "       #.withColumn(\"filename\", input_file_name())\n",
    "\n",
    "    pfizer_UK_df.show(5)\n",
    "except: \n",
    "    print(\"Unexpected error:\", sys.exc_info()[0])"
   ]
  },
  {
   "cell_type": "code",
   "execution_count": 21,
   "metadata": {},
   "outputs": [
    {
     "name": "stdout",
     "output_type": "stream",
     "text": [
      "+--------------------+--------------------+--------------------+-------------------+------------------+--------------+\n",
      "|                text|                date|            location|           polarity|      subjectivity|classification|\n",
      "+--------------------+--------------------+--------------------+-------------------+------------------+--------------+\n",
      "|Boost for the COV...|Mon Jun 28 11:03:...|     London, England|0.19318181818181818|0.3939393939393939|      Positive|\n",
      "|Research by the U...|Mon Jun 28 11:03:...|          London, UK|                0.1|               0.3|      Positive|\n",
      "|Research by the U...|Mon Jun 28 11:03:...|Middlesbrough, En...|               0.05|              0.15|      Positive|\n",
      "|Research by the U...|Mon Jun 28 11:03:...|  Sheffield, England|               0.05|              0.15|      Positive|\n",
      "|Research by the U...|Mon Jun 28 11:03:...| Edinburgh, Scotland|               0.05|              0.15|      Positive|\n",
      "+--------------------+--------------------+--------------------+-------------------+------------------+--------------+\n",
      "only showing top 5 rows\n",
      "\n"
     ]
    }
   ],
   "source": [
    "#combining all csv-files of the AstraZeneca-UK-tweets into one pyspark dataframe\n",
    "try:\n",
    "    os.chdir(\"/home/jovyan\")\n",
    "    fullpath = './combined_astra_UK/*.csv'\n",
    "\n",
    "    astra_UK_df = spark.read.format(\"csv\") \\\n",
    "       .option(\"header\", \"false\") \\\n",
    "       .option(\"sep\",\",\") \\\n",
    "       .schema(customSchema) \\\n",
    "       .load(fullpath) \\\n",
    "       #.withColumn(\"filename\", input_file_name())\n",
    "\n",
    "    astra_UK_df.show(5)\n",
    "except: \n",
    "    print(\"Unexpected error:\", sys.exc_info()[0])"
   ]
  },
  {
   "cell_type": "code",
   "execution_count": 22,
   "metadata": {},
   "outputs": [
    {
     "name": "stdout",
     "output_type": "stream",
     "text": [
      "+--------------------+--------------------+------------+--------+------------+--------------+\n",
      "|                text|                date|    location|polarity|subjectivity|classification|\n",
      "+--------------------+--------------------+------------+--------+------------+--------------+\n",
      "|Vaccine appointme...|                null|        null|    null|        null|          null|\n",
      "|Walgreens/Duane R...|                null|        null|    null|        null|          null|\n",
      "|122 East 42nd Street|           Manhattan|          NY|   10168|        null|          null|\n",
      "|                (8…\"|Fri Jul 02 10:17:...|New York, NY|     0.4|         0.4|      Positive|\n",
      "|Vaccine appointme...|                null|        null|    null|        null|          null|\n",
      "+--------------------+--------------------+------------+--------+------------+--------------+\n",
      "only showing top 5 rows\n",
      "\n"
     ]
    }
   ],
   "source": [
    "#combining all csv-files of the Pfizer-US-tweets into one pyspark dataframe\n",
    "try:\n",
    "    os.chdir(\"/home/jovyan\")\n",
    "    fullpath = './combined_pfizer_US/*.csv'\n",
    "\n",
    "    pfizer_US_df = spark.read.format(\"csv\") \\\n",
    "       .option(\"header\", \"false\") \\\n",
    "       .option(\"sep\",\",\") \\\n",
    "       .schema(customSchema) \\\n",
    "       .load(fullpath) \\\n",
    "       #.withColumn(\"filename\", input_file_name())\n",
    "\n",
    "    pfizer_US_df.show(5)\n",
    "except: \n",
    "    print(\"Unexpected error:\", sys.exc_info()[0])"
   ]
  },
  {
   "cell_type": "code",
   "execution_count": 23,
   "metadata": {},
   "outputs": [
    {
     "name": "stdout",
     "output_type": "stream",
     "text": [
      "+--------------------+--------------------+--------------------+--------------------+------------------+------------------+\n",
      "|                text|                date|            location|            polarity|      subjectivity|    classification|\n",
      "+--------------------+--------------------+--------------------+--------------------+------------------+------------------+\n",
      "|Here we go again....|Mon Jun 28 10:55:...|          Boulder CO|0.041666666666666685|0.3333333333333333|          Positive|\n",
      "|The virus is here...|                null|                null|                null|              null|              null|\n",
      "|            Recently| 's press release...|Mon Jun 28 10:57:...|          New Jersey|0.0909090909090909|0.4166666666666667|\n",
      "|Here we go again....|Mon Jun 28 10:57:...|         Atlanta, GA|0.041666666666666685|0.3333333333333333|          Positive|\n",
      "|6) wouldn’t it be...|Mon Jun 28 10:59:...|       United States|                 0.7|               0.9|          Positive|\n",
      "+--------------------+--------------------+--------------------+--------------------+------------------+------------------+\n",
      "only showing top 5 rows\n",
      "\n"
     ]
    }
   ],
   "source": [
    "#combining all csv-files of the AstraZeneca-US-tweets into one pyspark dataframe\n",
    "try:\n",
    "    os.chdir(\"/home/jovyan\")\n",
    "    fullpath = './combined_astra_US/*.csv'\n",
    "\n",
    "    astra_US_df = spark.read.format(\"csv\") \\\n",
    "       .option(\"header\", \"false\") \\\n",
    "       .option(\"sep\",\",\") \\\n",
    "       .schema(customSchema) \\\n",
    "       .load(fullpath) \\\n",
    "       #.withColumn(\"filename\", input_file_name())\n",
    "\n",
    "    astra_US_df.show(5)\n",
    "except: \n",
    "    print(\"Unexpected error:\", sys.exc_info()[0])"
   ]
  },
  {
   "cell_type": "code",
   "execution_count": 24,
   "metadata": {},
   "outputs": [],
   "source": [
    "try:  \n",
    "    os.chdir(\"/home/jovyan/dp2-2021s-teamboehm/Test/TestCombine\")\n",
    "    pfizer_UK_df.toPandas().to_csv('pfizer_UK_combined.csv', index = False)\n",
    "    astra_UK_df.toPandas().to_csv('astra_UK_combined.csv', index = False)\n",
    "    pfizer_US_df.toPandas().to_csv('pfizer_US_combined.csv', index = False)\n",
    "    astra_US_df.toPandas().to_csv('astra_US_combined.csv', index = False)\n",
    "except: \n",
    "    print(\"Unexpected error:\", sys.exc_info()[0])"
   ]
  },
  {
   "cell_type": "code",
   "execution_count": 27,
   "metadata": {},
   "outputs": [
    {
     "name": "stdout",
     "output_type": "stream",
     "text": [
      "+--------------------+--------------------+--------------------+--------+------------+--------------+\n",
      "|                text|                date|            location|polarity|subjectivity|classification|\n",
      "+--------------------+--------------------+--------------------+--------+------------+--------------+\n",
      "|The Pfizer-BioNTe...|Mon Jun 28 14:43:...|Johannesburg, Sou...|     0.5|         0.5|      Positive|\n",
      "|   🤞🏾this is true.|                null|                null|    null|        null|          null|\n",
      "|Pfizer and Modern...|Mon Jun 28 14:43:...|       United States|    0.35|        0.65|      Positive|\n",
      "|The Pfizer-BioNTe...|Mon Jun 28 14:43:...|              Mexico|     0.5|         0.5|      Positive|\n",
      "|Great news — Pfiz...|Mon Jun 28 14:43:...|               World|     0.8|        0.75|      Positive|\n",
      "+--------------------+--------------------+--------------------+--------+------------+--------------+\n",
      "only showing top 5 rows\n",
      "\n"
     ]
    }
   ],
   "source": [
    "#combining all csv-files of all worldwide tweets into one pyspark dataframe\n",
    "try:\n",
    "    os.chdir(\"/home/jovyan\")\n",
    "    fullpath = './combined_all_worldwide/*.csv'\n",
    "\n",
    "    # read all csv files in the folder into a single pyspark dataframe\n",
    "    worldwide_combined_df = spark.read.format(\"csv\") \\\n",
    "       .option(\"header\", \"false\") \\\n",
    "       .option(\"sep\",\",\") \\\n",
    "       .schema(customSchema) \\\n",
    "       .load(fullpath)\n",
    "    \n",
    "    worldwide_combined_df.show(5)\n",
    "except: \n",
    "    print(\"Unexpected error:\", sys.exc_info()[0])"
   ]
  },
  {
   "cell_type": "code",
   "execution_count": 28,
   "metadata": {},
   "outputs": [],
   "source": [
    "try:  \n",
    "    os.chdir(\"/home/jovyan/dp2-2021s-teamboehm/Test/TestCombine\")\n",
    "    worldwide_combined_df.toPandas().to_csv('worldwide_combined.csv', index = False)\n",
    "except: \n",
    "    print(\"Unexpected error:\", sys.exc_info()[0])"
   ]
  },
  {
   "cell_type": "code",
   "execution_count": null,
   "metadata": {},
   "outputs": [],
   "source": []
  },
  {
   "cell_type": "code",
   "execution_count": null,
   "metadata": {},
   "outputs": [],
   "source": []
  },
  {
   "cell_type": "code",
   "execution_count": null,
   "metadata": {},
   "outputs": [],
   "source": []
  },
  {
   "cell_type": "code",
   "execution_count": null,
   "metadata": {},
   "outputs": [],
   "source": []
  },
  {
   "cell_type": "code",
   "execution_count": null,
   "metadata": {},
   "outputs": [],
   "source": []
  },
  {
   "cell_type": "code",
   "execution_count": null,
   "metadata": {},
   "outputs": [],
   "source": []
  },
  {
   "cell_type": "code",
   "execution_count": null,
   "metadata": {},
   "outputs": [],
   "source": []
  },
  {
   "cell_type": "code",
   "execution_count": null,
   "metadata": {},
   "outputs": [],
   "source": []
  },
  {
   "cell_type": "code",
   "execution_count": null,
   "metadata": {},
   "outputs": [],
   "source": []
  },
  {
   "cell_type": "code",
   "execution_count": null,
   "metadata": {},
   "outputs": [],
   "source": []
  },
  {
   "cell_type": "code",
   "execution_count": null,
   "metadata": {},
   "outputs": [],
   "source": []
  },
  {
   "cell_type": "code",
   "execution_count": null,
   "metadata": {},
   "outputs": [],
   "source": []
  }
 ],
 "metadata": {
  "kernelspec": {
   "display_name": "Python 3",
   "language": "python",
   "name": "python3"
  },
  "language_info": {
   "codemirror_mode": {
    "name": "ipython",
    "version": 3
   },
   "file_extension": ".py",
   "mimetype": "text/x-python",
   "name": "python",
   "nbconvert_exporter": "python",
   "pygments_lexer": "ipython3",
   "version": "3.8.6"
  }
 },
 "nbformat": 4,
 "nbformat_minor": 4
}
