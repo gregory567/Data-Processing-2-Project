{
 "cells": [
  {
   "cell_type": "markdown",
   "metadata": {},
   "source": [
    "### Twitter Producer of AstraZeneca vaccine tweets Worldwide\n",
    "\n",
    "**Original Author:** Walker Rowe.<br/>\n",
    "**Additional Info:** Working with Streaming Twitter Data Using Kafka. https://www.bmc.com/blogs/working-streaming-twitter-data-using-kafka/<br/>\n",
    "**Last Modified:** "
   ]
  },
  {
   "cell_type": "code",
   "execution_count": null,
   "metadata": {},
   "outputs": [],
   "source": [
    "# Install a pip package in the current Jupyter kernel\n",
    "import sys\n",
    "!{sys.executable} -m pip install tweepy"
   ]
  },
  {
   "cell_type": "code",
   "execution_count": null,
   "metadata": {},
   "outputs": [],
   "source": [
    "# Install a pip package in the current Jupyter kernel\n",
    "import sys\n",
    "!{sys.executable} -m pip install kafka-python"
   ]
  },
  {
   "cell_type": "code",
   "execution_count": null,
   "metadata": {},
   "outputs": [],
   "source": [
    "# Import the tweepy and kafka modules \n",
    "from tweepy.streaming import StreamListener\n",
    "from tweepy import OAuthHandler\n",
    "from tweepy import Stream\n",
    "from kafka import KafkaProducer\n",
    "import json\n",
    "\n",
    "# Twitter access token variables & credentials: (pls do not delete these!)\n",
    "access_token = \"1403320840444432385-M4WIsygsfgjqwR7DNT2w8pIvZEx2ui\"\n",
    "access_secret =  \"c7svG1RmZJqb7ZDsSFmPfcVgOUjkpLUqPDcGclQzFAZQi\"\n",
    "consumer_key =  \"ipSRdut29EAMqFUViFt3IAjWv\"\n",
    "consumer_secret =  \"nf2mhiU1tnEV7EIeXrc5pAJ157cktwKI3d2aJXHLWzczecPI5k\""
   ]
  },
  {
   "cell_type": "code",
   "execution_count": null,
   "metadata": {},
   "outputs": [],
   "source": [
    "# Helper class\n",
    "class StdOutListener(StreamListener):\n",
    "    # Called when raw data is received from connection.\n",
    "    def on_data(self, data):\n",
    "        # Publish a message to a topic.\n",
    "        producer.send(\"AstraZeneca_worldwide\", data.encode('utf-8'))\n",
    "        \n",
    "        # Print out the twitter data (use with caution as it will cause the notebook to become unresponsive)\n",
    "        #print(data)\n",
    "        return True\n",
    "    # Called when a non-200 status code is returned\n",
    "    def on_error(self, status):\n",
    "        # Print the status message\n",
    "        print (status)"
   ]
  },
  {
   "cell_type": "code",
   "execution_count": null,
   "metadata": {},
   "outputs": [],
   "source": [
    "# Encapsulate the code in try except blocks\n",
    "try:    \n",
    "    # Publish a message to a topic\n",
    "    producer = KafkaProducer(bootstrap_servers='localhost:9092')\n",
    "\n",
    "    # Create a StdOutListener object\n",
    "    l = StdOutListener()\n",
    "\n",
    "    # Create a OAuth authentication handler object\n",
    "    auth = OAuthHandler(consumer_key, consumer_secret)\n",
    "\n",
    "    # Set the tweepy access tokenes\n",
    "    auth.set_access_token(access_token, access_secret)\n",
    "\n",
    "    # Create a Stream object\n",
    "    stream = Stream(auth, l)\n",
    "\n",
    "    # The track parameter is an array of search terms to stream.\n",
    "    tracker = ['AstraZeneca', 'astrazeneca', 'Astrazeneca', 'Astra', 'astrazeneca vaccine', 'astrazeneca vaccine', 'Astrazeneca vaccine', 'Astrazeneca Vaccine']\n",
    "    \n",
    "    # Filter the stream for all tweets containing the search terms. \n",
    "    stream.filter(track=tracker, languages=[\"en\"])\n",
    "except:\n",
    "    # Print the error\n",
    "    print(\"Unexpected error:\", sys.exc_info())\n"
   ]
  },
  {
   "cell_type": "code",
   "execution_count": null,
   "metadata": {},
   "outputs": [],
   "source": []
  },
  {
   "cell_type": "code",
   "execution_count": null,
   "metadata": {},
   "outputs": [],
   "source": []
  },
  {
   "cell_type": "code",
   "execution_count": null,
   "metadata": {},
   "outputs": [],
   "source": []
  },
  {
   "cell_type": "code",
   "execution_count": null,
   "metadata": {},
   "outputs": [],
   "source": []
  }
 ],
 "metadata": {
  "kernelspec": {
   "display_name": "Python 3",
   "language": "python",
   "name": "python3"
  },
  "language_info": {
   "codemirror_mode": {
    "name": "ipython",
    "version": 3
   },
   "file_extension": ".py",
   "mimetype": "text/x-python",
   "name": "python",
   "nbconvert_exporter": "python",
   "pygments_lexer": "ipython3",
   "version": "3.8.6"
  }
 },
 "nbformat": 4,
 "nbformat_minor": 4
}
