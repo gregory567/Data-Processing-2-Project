{
 "cells": [
  {
   "cell_type": "markdown",
   "metadata": {},
   "source": [
    "### Twitter Producer of Moderna vaccine tweets UK\n",
    "\n",
    "**Original Author:** Walker Rowe.<br/>\n",
    "**Additional Info:** Working with Streaming Twitter Data Using Kafka. https://www.bmc.com/blogs/working-streaming-twitter-data-using-kafka/<br/>\n",
    "**Last Modified:** "
   ]
  },
  {
   "cell_type": "code",
   "execution_count": 6,
   "metadata": {},
   "outputs": [
    {
     "name": "stdout",
     "output_type": "stream",
     "text": [
      "Requirement already satisfied: tweepy in /opt/conda/lib/python3.8/site-packages (3.9.0)\n",
      "Requirement already satisfied: six>=1.10.0 in /opt/conda/lib/python3.8/site-packages (from tweepy) (1.15.0)\n",
      "Requirement already satisfied: requests[socks]>=2.11.1 in /opt/conda/lib/python3.8/site-packages (from tweepy) (2.24.0)\n",
      "Requirement already satisfied: requests-oauthlib>=0.7.0 in /opt/conda/lib/python3.8/site-packages (from tweepy) (1.3.0)\n",
      "Requirement already satisfied: idna<3,>=2.5 in /opt/conda/lib/python3.8/site-packages (from requests[socks]>=2.11.1->tweepy) (2.10)\n",
      "Requirement already satisfied: certifi>=2017.4.17 in /opt/conda/lib/python3.8/site-packages (from requests[socks]>=2.11.1->tweepy) (2020.6.20)\n",
      "Requirement already satisfied: chardet<4,>=3.0.2 in /opt/conda/lib/python3.8/site-packages (from requests[socks]>=2.11.1->tweepy) (3.0.4)\n",
      "Requirement already satisfied: urllib3!=1.25.0,!=1.25.1,<1.26,>=1.21.1 in /opt/conda/lib/python3.8/site-packages (from requests[socks]>=2.11.1->tweepy) (1.25.11)\n",
      "Requirement already satisfied: PySocks!=1.5.7,>=1.5.6; extra == \"socks\" in /opt/conda/lib/python3.8/site-packages (from requests[socks]>=2.11.1->tweepy) (1.7.1)\n",
      "Requirement already satisfied: oauthlib>=3.0.0 in /opt/conda/lib/python3.8/site-packages (from requests-oauthlib>=0.7.0->tweepy) (3.0.1)\n"
     ]
    }
   ],
   "source": [
    "# Install a pip package in the current Jupyter kernel\n",
    "import sys\n",
    "!{sys.executable} -m pip install tweepy"
   ]
  },
  {
   "cell_type": "code",
   "execution_count": 7,
   "metadata": {},
   "outputs": [
    {
     "name": "stdout",
     "output_type": "stream",
     "text": [
      "Requirement already satisfied: kafka-python in /opt/conda/lib/python3.8/site-packages (2.0.2)\n"
     ]
    }
   ],
   "source": [
    "# Install a pip package in the current Jupyter kernel\n",
    "import sys\n",
    "!{sys.executable} -m pip install kafka-python"
   ]
  },
  {
   "cell_type": "code",
   "execution_count": 8,
   "metadata": {},
   "outputs": [],
   "source": [
    "# Import the tweepy and kafka modules \n",
    "from tweepy.streaming import StreamListener\n",
    "from tweepy import OAuthHandler\n",
    "from tweepy import Stream\n",
    "from kafka import KafkaProducer\n",
    "import json\n",
    "\n",
    "# Twitter access token variables & credentials: (pls do not delete these!)\n",
    "access_token = \"3057141689-qTU6uFzNIcI8Uw7CjRP7dHnictwheIgT8vCTMRo\"\n",
    "access_secret =  \"4Qbw7AhWm2tpp8rlZlEz0LDCEiVpuUjzCP79kXHgYgJzo\"\n",
    "consumer_key =  \"WvfrHbnUOcAuW9h9EbywqouSW\"\n",
    "consumer_secret =  \"nCkmk8CFmorRFW9OHpo3L84aEO6d34OLhfL7e0QfxivLQmOC5C\""
   ]
  },
  {
   "cell_type": "code",
   "execution_count": 9,
   "metadata": {},
   "outputs": [],
   "source": [
    "# Helper class\n",
    "class StdOutListener(StreamListener):\n",
    "    # Called when raw data is received from connection.\n",
    "    def on_data(self, data):\n",
    "        # Publish a message to a topic.\n",
    "        producer.send(\"moderna_UK\", data.encode('utf-8'))\n",
    "        \n",
    "        # Print out the twitter data (use with caution as it will cause the notebook to become unresponsive)\n",
    "        #print(data)\n",
    "        return True\n",
    "    # Called when a non-200 status code is returned\n",
    "    def on_error(self, status):\n",
    "        # Print the status message\n",
    "        print (status)"
   ]
  },
  {
   "cell_type": "code",
   "execution_count": 10,
   "metadata": {},
   "outputs": [
    {
     "name": "stdout",
     "output_type": "stream",
     "text": [
      "Unexpected error: (<class 'KeyboardInterrupt'>, KeyboardInterrupt(), <traceback object at 0x7efc58b3dcc0>)\n"
     ]
    }
   ],
   "source": [
    "# Encapsulate the code in try except blocks\n",
    "try:    \n",
    "    # Publish a message to a topic\n",
    "    producer = KafkaProducer(bootstrap_servers='localhost:9092')\n",
    "\n",
    "    # Create a StdOutListener object\n",
    "    l = StdOutListener()\n",
    "\n",
    "    # Create a OAuth authentication handler object\n",
    "    auth = OAuthHandler(consumer_key, consumer_secret)\n",
    "\n",
    "    # Set the tweepy access tokenes\n",
    "    auth.set_access_token(access_token, access_secret)\n",
    "\n",
    "    # Create a Stream object\n",
    "    stream = Stream(auth, l)\n",
    "\n",
    "    # The track parameter is an array of search terms to stream.\n",
    "    tracker = ['moderna', 'Moderna']\n",
    "    \n",
    "    # Filter the stream for all tweets containing the search terms. \n",
    "    stream.filter(track=tracker, languages=[\"en\"])\n",
    "except:\n",
    "    # Print the error\n",
    "    print(\"Unexpected error:\", sys.exc_info())\n"
   ]
  },
  {
   "cell_type": "code",
   "execution_count": null,
   "metadata": {},
   "outputs": [],
   "source": []
  },
  {
   "cell_type": "code",
   "execution_count": null,
   "metadata": {},
   "outputs": [],
   "source": []
  },
  {
   "cell_type": "code",
   "execution_count": null,
   "metadata": {},
   "outputs": [],
   "source": []
  },
  {
   "cell_type": "code",
   "execution_count": null,
   "metadata": {},
   "outputs": [],
   "source": []
  }
 ],
 "metadata": {
  "kernelspec": {
   "display_name": "Python 3",
   "language": "python",
   "name": "python3"
  },
  "language_info": {
   "codemirror_mode": {
    "name": "ipython",
    "version": 3
   },
   "file_extension": ".py",
   "mimetype": "text/x-python",
   "name": "python",
   "nbconvert_exporter": "python",
   "pygments_lexer": "ipython3",
   "version": "3.8.6"
  }
 },
 "nbformat": 4,
 "nbformat_minor": 4
}
